{
 "cells": [
  {
   "cell_type": "markdown",
   "metadata": {},
   "source": [
    "# Update 2021/01/06 \n",
    "\n",
    "I make this copy to show that things have worked well. It can be used a reference. \n"
   ]
  },
  {
   "cell_type": "markdown",
   "metadata": {},
   "source": [
    "# Distribution of Coalescent times under differing population histories\n",
    "\n",
    "This is a notebook to outline problems I am having. I will present this in self-contained way so that it is reproducible. I refer entirely to notation and equations as in the journal _\"On the importance of being structured: instantaneouscoalescence rates and human evolution—lessons for ancestral population size inference?\"_ by O Mazet, W Rodriguez, S Grusea, S Boitard, and L Chikhi."
   ]
  },
  {
   "cell_type": "markdown",
   "metadata": {},
   "source": [
    "## Setup\n",
    "\n",
    "These are the dependencies and functions needed, can skip over."
   ]
  },
  {
   "cell_type": "code",
   "execution_count": 33,
   "metadata": {},
   "outputs": [],
   "source": [
    "# dependencies\n",
    "\n",
    "import os\n",
    "from datetime import datetime\n",
    "import argparse\n",
    "import numpy as np\n",
    "import pdb\n",
    "import math\n",
    "import pandas as pd\n",
    "from scipy.stats import entropy\n",
    "import argparse\n",
    "import matplotlib.pyplot as plt\n",
    "import numpy as np\n",
    "import msprime\n",
    "\n",
    "# change plot size\n",
    "plt.rcParams['figure.figsize'] = [12, 8]"
   ]
  },
  {
   "cell_type": "markdown",
   "metadata": {},
   "source": [
    "In this notebook I record the observed sequence of tMRCAs along a genome, as returned by msprime. The following functions in the below code block are the mechanisms to do that."
   ]
  },
  {
   "cell_type": "code",
   "execution_count": 23,
   "metadata": {},
   "outputs": [],
   "source": [
    "def get_coal_data(sim,bin_length):\n",
    "    tmrca_data = [] # first tuple is index, second tuple is sequence interval, third tuple is tMRCA\n",
    "    ind = 0 #index for binning\n",
    "    for tree in sim.trees():\n",
    "        tmrca_data.append((tree.index,tree.interval[1],tree.time(tree.parent(0))))\n",
    "        ind = math.floor(tree.interval[1]/bin_length)\n",
    "    return tmrca_data\n",
    "\n",
    "def round_bin_coal_data(seq_length,tmrca_data,bin_length):\n",
    "    coal_times = np.zeros(shape=(int(seq_length/bin_length))) # create empty array which will store the binned coalescent times\n",
    "    ind = 0 #index for binning\n",
    "    for i in range(0,len(tmrca_data)):\n",
    "        coal_times[ind:math.floor(tmrca_data[i][1]/bin_length)] = tmrca_data[i][2]\n",
    "        ind = math.floor(tmrca_data[i][1]/bin_length)\n",
    "    return coal_times\n",
    "\n",
    "def round_coal_times(coal_times,T_scaled_np,N_T):\n",
    "    # coal_times are the (exact) coalescent times along a sequence, as given by ms prime\n",
    "    # T_scaled_np are the scaled time intervals (in a np aray)\n",
    "    # N_T is the number of hidden states\n",
    "    coal_times_intervals = [] \n",
    "    for i in range(0,len(coal_times)):\n",
    "        diff = coal_times[i] - T_scaled_np\n",
    "        diff_pos = diff[diff >0]\n",
    "        where = np.argmin(diff_pos) # find closest interval\n",
    "        if where == N_T: #TODO find a better fix for this. Have extended T to include upper interval\n",
    "            where = where - 1\n",
    "        coal_times_intervals.append(where) \n",
    "    return coal_times_intervals\n",
    "\n",
    "def num_occcurences(array,time_intervals):\n",
    "    counts = np.zeros(shape=len(time_intervals))\n",
    "    for i in range(len(array)):\n",
    "        counts[array[i]] += 1\n",
    "    return counts\n",
    "\n",
    "def get_counts_freq(sim,time_intervals,bin_length):\n",
    "    # this function returns the observed pdf of T2 (f_T2(t))\n",
    "\n",
    "    # get true coalescent data\n",
    "    tmrca_data = get_coal_data(sim, bin_length) \n",
    "\n",
    "    # round this data into segments of size args.bin_length \n",
    "    coal_times = round_bin_coal_data(sim.sequence_length,tmrca_data, bin_length) # partition coalescent data into bins  \n",
    "\n",
    "\n",
    "    # round coalescence time into interval\n",
    "    coal_times_intervals = np.array(round_coal_times(coal_times,time_intervals,N_T=len(time_intervals))) # round binned coalescent times into their respected interval\n",
    "\n",
    "    # count number of occurunces in each interval\n",
    "    counts = num_occcurences(coal_times_intervals,time_intervals)\n",
    "\n",
    "    # get frequency of these (divide by sum). This is the pdf (=f_T2(t))\n",
    "    counts_freq = counts / counts.sum()\n",
    "    return counts_freq"
   ]
  },
  {
   "cell_type": "markdown",
   "metadata": {},
   "source": [
    "## Population size changes over time\n",
    "\n",
    "I first demonstrate that things work for a population that experiences size changes over time. \n",
    "\n",
    "I will create a history that doubles in size at time T_1 then returns to normal size at time T_2."
   ]
  },
  {
   "cell_type": "code",
   "execution_count": 24,
   "metadata": {},
   "outputs": [],
   "source": [
    "# define history\n",
    "def psc(T_1,T_2,seq_length):\n",
    "    N_0 = 1e+04 # diploid population size\n",
    "    population_configurations = [\n",
    "        msprime.PopulationConfiguration(sample_size=2, initial_size=N_0, growth_rate=0),\n",
    "    ]\n",
    "    demographic_events = [\n",
    "        msprime.PopulationParametersChange(time=T_1, initial_size=N_0*2),\n",
    "        msprime.PopulationParametersChange(time=T_2, initial_size=N_0)\n",
    "    ]\n",
    "    # Use the demography debugger to print out the demographic history\n",
    "    # that we have just described.\n",
    "    dd = msprime.DemographyDebugger(\n",
    "        population_configurations=population_configurations,demographic_events=demographic_events)\n",
    "    print('Demographic history:\\n')\n",
    "    dd.print_history()\n",
    "    sim = msprime.simulate(population_configurations=population_configurations,\n",
    "                           demographic_events=demographic_events, length=seq_length, recombination_rate=2e-08,\n",
    "                           mutation_rate=2e-08)\n",
    "    return sim\n"
   ]
  },
  {
   "cell_type": "code",
   "execution_count": 11,
   "metadata": {},
   "outputs": [
    {
     "name": "stdout",
     "output_type": "stream",
     "text": [
      "Running simulation\n",
      "Demographic history:\n",
      "\n",
      "Model =  hudson(reference_size=1)\n",
      "===============================\n",
      "Epoch: 0 -- 20000.0 generations\n",
      "===============================\n",
      "     start     end      growth_rate |     0    \n",
      "   -------- --------       -------- | -------- \n",
      "0 |  1e+04    1e+04               0 |     0    \n",
      "\n",
      "Events @ generation 20000.0\n",
      "   - Population parameter change for -1: initial_size -> 20000.0 \n",
      "=====================================\n",
      "Epoch: 20000.0 -- 50000.0 generations\n",
      "=====================================\n",
      "     start     end      growth_rate |     0    \n",
      "   -------- --------       -------- | -------- \n",
      "0 |  2e+04    2e+04               0 |     0    \n",
      "\n",
      "Events @ generation 50000.0\n",
      "   - Population parameter change for -1: initial_size -> 10000.0 \n",
      "=================================\n",
      "Epoch: 50000.0 -- inf generations\n",
      "=================================\n",
      "     start     end      growth_rate |     0    \n",
      "   -------- --------       -------- | -------- \n",
      "0 |  1e+04    1e+04               0 |     0    \n",
      "\n",
      "Simulation finished\n"
     ]
    }
   ],
   "source": [
    "# run simulation\n",
    "seq_length = 150e+06\n",
    "T_1 = 20000\n",
    "T_2 = 50000\n",
    "\n",
    "print(\"Running simulation\")\n",
    "sim1 = psc(T_1,T_2,seq_length)\n",
    "print(\"Simulation finished\")"
   ]
  },
  {
   "cell_type": "markdown",
   "metadata": {},
   "source": [
    "To measure the observed distribution, we must count number of coalescences in particular time intervals. \n",
    "When we consider the analytical expectation, we must scale these by some number (a linear function of bin_length, sequence_length, number and spacing of time intervals and something else that I can't figure out) which i can estimate hueristically, to match the observations"
   ]
  },
  {
   "cell_type": "code",
   "execution_count": 177,
   "metadata": {},
   "outputs": [],
   "source": [
    "min_time = 0\n",
    "max_time = 3e+05\n",
    "spacing = 1000\n",
    "bin_length = 100\n",
    "time_intervals = np.arange(min_time,max_time,spacing)\n",
    "\n",
    "# scaling\n",
    "scaling = 250*len(time_intervals)*(bin_length/seq_length)"
   ]
  },
  {
   "cell_type": "markdown",
   "metadata": {},
   "source": [
    "Now record the observations, using the functions we defined earlier."
   ]
  },
  {
   "cell_type": "code",
   "execution_count": null,
   "metadata": {},
   "outputs": [],
   "source": [
    "f_obs1 = get_counts_freq(sim1,time_intervals,bin_length) # empirical pdf for non panmictic history, with constant structure and constant size"
   ]
  },
  {
   "cell_type": "code",
   "execution_count": 178,
   "metadata": {},
   "outputs": [
    {
     "data": {
      "image/png": "[encoded data removed]",
      "text/plain": [
       "<Figure size 864x576 with 1 Axes>"
      ]
     },
     "metadata": {
      "needs_background": "light"
     },
     "output_type": "display_data"
    }
   ],
   "source": [
    "# standard pdf\n",
    "def f1(x,N):\n",
    "    x = x/(2*N)\n",
    "    f = np.exp(-x)\n",
    "    return f*scaling\n",
    "\n",
    "def f2(x,T_1,N):\n",
    "    x = x/(2*N)\n",
    "    T_1 = T_1/(2*N)\n",
    "    bigger_T_1 = np.exp(-T_1)\n",
    "    f = bigger_T_1 * 0.5*np.exp(-(x-T_1)/2)\n",
    "    return f*scaling\n",
    "\n",
    "def f3(x,T_1,T_2,N):\n",
    "    x = x/(2*N)\n",
    "    T_1 = T_1/(2*N)\n",
    "    T_2 = T_2/(2*N)\n",
    "    bigger_T_2 = np.exp(-T_1)*(1 - (1-np.exp(-(T_2-T_1)/2)))\n",
    "    f = bigger_T_2 * np.exp(-(x-T_2))\n",
    "    return f*scaling\n",
    "    \n",
    "t1 = np.arange(0,T_1,1) # first epoch\n",
    "t2 = np.arange(T_1,T_2,1) # second epoch\n",
    "t3 = np.arange(T_2,max_time,1) # third epoch\n",
    "\n",
    "\n",
    "N = 10000 # diploid population size\n",
    "\n",
    "line_obs = plt.plot(time_intervals,f_obs1,label=\"Observations\")\n",
    "line_f1 = plt.plot(t1,f1(t1,N),label=\"Analytical predictions\",color=\"red\")\n",
    "line_f2 = plt.plot(t2,f2(t2,T_1,N),color=\"red\")\n",
    "line_f3 = plt.plot(t3,f3(t3,T_1,T_2,N),color=\"red\")\n",
    "plt.legend()\n",
    "plt.xlim(0,100000)\n",
    "plt.title('Fig 1: Emperical and Predicted pdf for psc')\n",
    "plt.show()"
   ]
  },
  {
   "cell_type": "markdown",
   "metadata": {},
   "source": [
    "As one can see, the predictions fit the observations well.\n",
    "\n",
    "From here, it is easy to calculate F (the CDF) and the IICR."
   ]
  },
  {
   "cell_type": "markdown",
   "metadata": {},
   "source": [
    "## Population experiencing structure\n",
    "\n",
    "Now I will try to fit the pdf for a history that experienced structure.\n",
    "\n",
    "### Same deme\n",
    "\n",
    "I will follow the n-island model, with 2 islands and sampling initially from the same deme. I use the notation as given in the manuscript mentioned above. \n"
   ]
  },
  {
   "cell_type": "code",
   "execution_count": 93,
   "metadata": {},
   "outputs": [],
   "source": [
    "def structure_samedeme(mig_rate,N,T_1,T_2,seq_length):\n",
    "    N_A0 = N\n",
    "    N_B0 =  N\n",
    "    m = mig_rate\n",
    "    \n",
    "    population_configurations = [\n",
    "        msprime.PopulationConfiguration(\n",
    "            sample_size=2, initial_size=N_A0, growth_rate=0),\n",
    "        msprime.PopulationConfiguration(\n",
    "            sample_size=0, initial_size=N_B0, growth_rate=0)\n",
    "    ]\n",
    "    migration_matrix = [[0,0],[0,0]]\n",
    "    demographic_events = [\n",
    "        msprime.MigrationRateChange(time = T_1,rate = m, matrix_index=(0,1)),\n",
    "        msprime.MigrationRateChange(time = T_1,rate = m, matrix_index=(1,0)),\n",
    "        msprime.MigrationRateChange(time = T_2,rate = 0, matrix_index=(0,1)),\n",
    "        msprime.MigrationRateChange(time = T_2,rate = 0, matrix_index=(1,0)),        \n",
    "        msprime.MassMigration(time=T_2, source =1, destination =0, proportion = 1)\n",
    "    ]\n",
    "    dd = msprime.DemographyDebugger(\n",
    "        population_configurations=population_configurations,migration_matrix=migration_matrix,\n",
    "        demographic_events=demographic_events)\n",
    "\n",
    "    print('Demographic history:\\n')\n",
    "    dd.print_history()\n",
    "    sim = msprime.simulate(population_configurations=population_configurations,\n",
    "                           demographic_events=demographic_events, length=seq_length, recombination_rate=2e-08,mutation_rate=2e-08)\n",
    "    return sim\n"
   ]
  },
  {
   "cell_type": "code",
   "execution_count": 98,
   "metadata": {},
   "outputs": [
    {
     "name": "stdout",
     "output_type": "stream",
     "text": [
      "Running simulation\n",
      "Demographic history:\n",
      "\n",
      "Model =  hudson(reference_size=1)\n",
      "Events @ generation 0\n",
      "   - Migration rate change for (0, 1) to 5e-05\n",
      "   - Migration rate change for (1, 0) to 5e-05\n",
      "===========================\n",
      "Epoch: 0 -- 0.0 generations\n",
      "===========================\n",
      "     start     end      growth_rate |     0        1    \n",
      "   -------- --------       -------- | -------- -------- \n",
      "0 |  1e+04    1e+04               0 |     0        0    \n",
      "1 |  1e+04    1e+04               0 |     0        0    \n",
      "\n",
      "=================================\n",
      "Epoch: 0.0 -- 80000.0 generations\n",
      "=================================\n",
      "     start     end      growth_rate |     0        1    \n",
      "   -------- --------       -------- | -------- -------- \n",
      "0 |  1e+04    1e+04               0 |     0      5e-05  \n",
      "1 |  1e+04    1e+04               0 |   5e-05      0    \n",
      "\n",
      "Events @ generation 80000.0\n",
      "   - Migration rate change for (0, 1) to 0\n",
      "   - Migration rate change for (1, 0) to 0\n",
      "   - Mass migration: Lineages moved with probability 1 backwards in time with source 1 & dest 0\n",
      "                     (equivalent to migration from 0 to 1 forwards in time)\n",
      "=================================\n",
      "Epoch: 80000.0 -- inf generations\n",
      "=================================\n",
      "     start     end      growth_rate |     0        1    \n",
      "   -------- --------       -------- | -------- -------- \n",
      "0 |  1e+04    1e+04               0 |     0        0    \n",
      "1 |  1e+04    1e+04               0 |     0        0    \n",
      "\n",
      "Simulation finished\n"
     ]
    }
   ],
   "source": [
    "# run simulation\n",
    "seq_length = 150e+06\n",
    "T_1 = 0\n",
    "T_2 = 80000\n",
    "mig_rate = 5e-05\n",
    "N = 10000\n",
    "\n",
    "print(\"Running simulation\")\n",
    "sim2 = structure_samedeme(mig_rate,N,T_1,T_2,seq_length)\n",
    "print(\"Simulation finished\")"
   ]
  },
  {
   "cell_type": "markdown",
   "metadata": {},
   "source": [
    "Record observations"
   ]
  },
  {
   "cell_type": "code",
   "execution_count": null,
   "metadata": {},
   "outputs": [],
   "source": [
    "f_obs2 = get_counts_freq(sim2,time_intervals,bin_length) # empirical pdf for non panmictic history, with constant structure and constant size"
   ]
  },
  {
   "cell_type": "code",
   "execution_count": 183,
   "metadata": {},
   "outputs": [
    {
     "name": "stdout",
     "output_type": "stream",
     "text": [
      "M, gamma, theta, discriminant, alpha, beta, a, c are [2.0, 2.0, 0.0008, 17.0, 4.561552812808831, 0.4384471871911697, 0.6212678125181664, -0.4850712500726658]\n"
     ]
    },
    {
     "data": {
      "image/png": "[encoded data removed]",
      "text/plain": [
       "<Figure size 864x576 with 1 Axes>"
      ]
     },
     "metadata": {
      "needs_background": "light"
     },
     "output_type": "display_data"
    }
   ],
   "source": [
    "# set up parameters\n",
    "\n",
    "N = 20000 # haploid genomes \n",
    "\n",
    "# n is number of demes\n",
    "n = 2\n",
    "\n",
    "# m is migration rate\n",
    "m = mig_rate\n",
    "\n",
    "# n is number of islands\n",
    "n = 2\n",
    "\n",
    "M = 2*N*m\n",
    "\n",
    "gamma = M/(n-1)\n",
    "\n",
    "mu = 2e-08\n",
    "\n",
    "theta = 2 * N * mu \n",
    "\n",
    "discriminant = (1+n*gamma)**2 - 4*gamma\n",
    "\n",
    "alpha = 0.5*(1 + n*gamma + np.sqrt(discriminant))\n",
    "\n",
    "beta = 0.5*(1 + n*gamma - np.sqrt(discriminant))\n",
    "\n",
    "a = (gamma-alpha)/(beta-alpha)\n",
    "\n",
    "c = gamma/(beta-alpha)\n",
    "\n",
    "print('M, gamma, theta, discriminant, alpha, beta, a, c are {}'.format([M, gamma, theta, discriminant, alpha, beta, a, c]))\n",
    "\n",
    "# equation 10\n",
    "def f_samedeme(x,a,alpha,beta,N,n):\n",
    "    # if j is generations, do we scale with j/(number of haploid genomes) or ((num of demes)*j)/(number of haploid genomes)\n",
    "    # i.e. x = j/N or x = (n*j)/N \n",
    "    # I tried both, neither fits data\n",
    "    x = (x)/(N) \n",
    "    f = a*np.exp(-alpha*x) + (1-a)*np.exp(-beta*x)\n",
    "    return f*scaling\n",
    "\n",
    "t1 = np.arange(0,T_2,1) # first epoch\n",
    "t2 = np.arange(T_2,max_time,1) # first epoch\n",
    "\n",
    "\n",
    "line_obs = plt.plot(time_intervals,f_obs2,label=\"Observations\")\n",
    "line_f1 = plt.plot(t1,f_samedeme(t1,a,alpha,beta,N,n),label=\"Analytical predictions\",color=\"red\")\n",
    "# line_f2 = plt.plot(t2,f2(t2,T_1,N),color=\"red\")\n",
    "# line_f3 = plt.plot(t3,f3(t3,T_1,T_2,N),color=\"red\")\n",
    "plt.legend()\n",
    "plt.xlim(0,100000)\n",
    "plt.title('Fig 2: Emperical and Predicted pdf for structured population, sampling from same deme')\n",
    "plt.show()"
   ]
  },
  {
   "cell_type": "markdown",
   "metadata": {},
   "source": [
    "Isn't quite a good fit."
   ]
  },
  {
   "cell_type": "markdown",
   "metadata": {},
   "source": [
    "### Different deme\n",
    "\n",
    "Now i try with sampling from a different deme"
   ]
  },
  {
   "cell_type": "code",
   "execution_count": 138,
   "metadata": {},
   "outputs": [],
   "source": [
    "def structure_diffdeme(mig_rate,N,T_1,T_2,seq_length):\n",
    "    N_A0 = N\n",
    "    N_B0 =  N\n",
    "    m = mig_rate\n",
    "    \n",
    "    population_configurations = [\n",
    "        msprime.PopulationConfiguration(\n",
    "            sample_size=1, initial_size=N_A0, growth_rate=0),\n",
    "        msprime.PopulationConfiguration(\n",
    "            sample_size=1, initial_size=N_B0, growth_rate=0)\n",
    "    ]\n",
    "    migration_matrix = [[0,0],[0,0]]\n",
    "    demographic_events = [\n",
    "        msprime.MigrationRateChange(time = T_1,rate = m, matrix_index=(0,1)),\n",
    "        msprime.MigrationRateChange(time = T_1,rate = m, matrix_index=(1,0)),\n",
    "        msprime.MigrationRateChange(time = T_2,rate = 0, matrix_index=(0,1)),\n",
    "        msprime.MigrationRateChange(time = T_2,rate = 0, matrix_index=(1,0)),        \n",
    "        msprime.MassMigration(time=T_2, source =1, destination =0, proportion = 1)\n",
    "    ]\n",
    "    dd = msprime.DemographyDebugger(\n",
    "        population_configurations=population_configurations,migration_matrix=migration_matrix,\n",
    "        demographic_events=demographic_events)\n",
    "\n",
    "    print('Demographic history:\\n')\n",
    "    dd.print_history()\n",
    "    sim = msprime.simulate(population_configurations=population_configurations,\n",
    "                           demographic_events=demographic_events, length=seq_length, recombination_rate=2e-08,mutation_rate=2e-08)\n",
    "    return sim"
   ]
  },
  {
   "cell_type": "code",
   "execution_count": 139,
   "metadata": {},
   "outputs": [
    {
     "name": "stdout",
     "output_type": "stream",
     "text": [
      "Running simulation\n",
      "Demographic history:\n",
      "\n",
      "Model =  hudson(reference_size=1)\n",
      "Events @ generation 0\n",
      "   - Migration rate change for (0, 1) to 5e-05\n",
      "   - Migration rate change for (1, 0) to 5e-05\n",
      "===========================\n",
      "Epoch: 0 -- 0.0 generations\n",
      "===========================\n",
      "     start     end      growth_rate |     0        1    \n",
      "   -------- --------       -------- | -------- -------- \n",
      "0 |  1e+04    1e+04               0 |     0        0    \n",
      "1 |  1e+04    1e+04               0 |     0        0    \n",
      "\n",
      "=================================\n",
      "Epoch: 0.0 -- 80000.0 generations\n",
      "=================================\n",
      "     start     end      growth_rate |     0        1    \n",
      "   -------- --------       -------- | -------- -------- \n",
      "0 |  1e+04    1e+04               0 |     0      5e-05  \n",
      "1 |  1e+04    1e+04               0 |   5e-05      0    \n",
      "\n",
      "Events @ generation 80000.0\n",
      "   - Migration rate change for (0, 1) to 0\n",
      "   - Migration rate change for (1, 0) to 0\n",
      "   - Mass migration: Lineages moved with probability 1 backwards in time with source 1 & dest 0\n",
      "                     (equivalent to migration from 0 to 1 forwards in time)\n",
      "=================================\n",
      "Epoch: 80000.0 -- inf generations\n",
      "=================================\n",
      "     start     end      growth_rate |     0        1    \n",
      "   -------- --------       -------- | -------- -------- \n",
      "0 |  1e+04    1e+04               0 |     0        0    \n",
      "1 |  1e+04    1e+04               0 |     0        0    \n",
      "\n",
      "Simulation finished\n"
     ]
    }
   ],
   "source": [
    "# run simulation\n",
    "seq_length = 150e+06\n",
    "T_1 = 0\n",
    "T_2 = 80000\n",
    "mig_rate = 5e-05\n",
    "N = 10000\n",
    "\n",
    "print(\"Running simulation\")\n",
    "sim3 = structure_diffdeme(mig_rate,N,T_1,T_2,seq_length)\n",
    "print(\"Simulation finished\")"
   ]
  },
  {
   "cell_type": "code",
   "execution_count": null,
   "metadata": {},
   "outputs": [],
   "source": [
    "f_obs3 = get_counts_freq(sim3,time_intervals,bin_length) # empirical pdf for non panmictic history, with constant structure and constant size"
   ]
  },
  {
   "cell_type": "code",
   "execution_count": 186,
   "metadata": {},
   "outputs": [
    {
     "name": "stdout",
     "output_type": "stream",
     "text": [
      "M, gamma, theta, discriminant, alpha, beta, a, c are [2.0, 2.0, 0.0008, 17.0, 4.561552812808831, 0.4384471871911697, 0.6212678125181664, -0.4850712500726658]\n"
     ]
    },
    {
     "data": {
      "image/png": "[encoded data removed]",
      "text/plain": [
       "<Figure size 864x576 with 1 Axes>"
      ]
     },
     "metadata": {
      "needs_background": "light"
     },
     "output_type": "display_data"
    }
   ],
   "source": [
    "# set up parameters\n",
    "\n",
    "# number of haploid genomes\n",
    "N = 20000\n",
    "\n",
    "# n is number of demes\n",
    "n = 2\n",
    "\n",
    "# N is population size of deme\n",
    "\n",
    "# m is migration rate\n",
    "m = mig_rate\n",
    "\n",
    "# n is number of islands\n",
    "n = 2\n",
    "\n",
    "M = 2*N*m\n",
    "\n",
    "gamma = M/(n-1)\n",
    "\n",
    "mu = 2e-08\n",
    "\n",
    "theta = 2 * N * mu \n",
    "\n",
    "discriminant = (1+n*gamma)**2 - 4*gamma\n",
    "\n",
    "alpha = 0.5*(1 + n*gamma + np.sqrt(discriminant))\n",
    "\n",
    "beta = 0.5*(1 + n*gamma - np.sqrt(discriminant))\n",
    "\n",
    "a = (gamma-alpha)/(beta-alpha)\n",
    "\n",
    "c = gamma/(beta-alpha)\n",
    "\n",
    "print('M, gamma, theta, discriminant, alpha, beta, a, c are {}'.format([M, gamma, theta, discriminant, alpha, beta, a, c]))\n",
    "\n",
    "# equation 11\n",
    "def f_diffdeme(x,c,alpha,beta,N,n):\n",
    "    # do we scaled with j/N or (n*j)/N\n",
    "    x = (x)/N \n",
    "    f = c*np.exp(-alpha*x) - c*np.exp(-beta*x)\n",
    "    return f*scaling\n",
    "\n",
    "t1 = np.arange(0,T_2,1) # first epoch\n",
    "t2 = np.arange(T_2,max_time,1) # first epoch\n",
    "\n",
    "line_obs = plt.plot(time_intervals,f_obs3,label=\"Observations\")\n",
    "line_f1 = plt.plot(t1,f_diffdeme(t1,c,alpha,beta,N,n),label=\"Analytical predictions\",color=\"red\")\n",
    "# line_f2 = plt.plot(t2,f2(t2,T_1,N),color=\"red\")\n",
    "# line_f3 = plt.plot(t3,f3(t3,T_1,T_2,N),color=\"red\")\n",
    "plt.legend()\n",
    "plt.xlim(0,100000)\n",
    "plt.title('Fig 3: Emperical and Predicted pdf for structured population, sampling from different deme')\n",
    "plt.show()"
   ]
  },
  {
   "cell_type": "markdown",
   "metadata": {},
   "source": [
    "## Conclusion\n",
    "\n",
    "It seems that things are working. That is good."
   ]
  },
  {
   "cell_type": "code",
   "execution_count": 187,
   "metadata": {},
   "outputs": [
    {
     "name": "stdout",
     "output_type": "stream",
     "text": [
      "hello Mayumi!\n"
     ]
    }
   ],
   "source": [
    "print('hello Mayumi!')"
   ]
  },
  {
   "cell_type": "code",
   "execution_count": null,
   "metadata": {},
   "outputs": [],
   "source": []
  }
 ],
 "metadata": {
  "kernelspec": {
   "display_name": "Python 3",
   "language": "python",
   "name": "python3"
  },
  "language_info": {
   "codemirror_mode": {
    "name": "ipython",
    "version": 3
   },
   "file_extension": ".py",
   "mimetype": "text/x-python",
   "name": "python",
   "nbconvert_exporter": "python",
   "pygments_lexer": "ipython3",
   "version": "3.6.9"
  }
 },
 "nbformat": 4,
 "nbformat_minor": 4
}
