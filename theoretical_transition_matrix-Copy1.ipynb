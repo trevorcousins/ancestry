{
 "cells": [
  {
   "cell_type": "code",
   "execution_count": 18,
   "metadata": {},
   "outputs": [],
   "source": [
    "from abinitio_tm import abinitio \n",
    "import numpy\n",
    "from msprime_models import * \n",
    "# from abinitio_tm import scaled_time_intervals\n",
    "# from msprime_utils import scaled_time_intervals, get_het, round_coal_times, tm_counts, get_coal_data, round_bin_coal_data, normalise\n",
    "from msprime_utils import *\n",
    "from heatmaps_generate import * \n",
    "from vcf_mhs import *\n",
    "import argparse"
   ]
  },
  {
   "cell_type": "code",
   "execution_count": 19,
   "metadata": {},
   "outputs": [
    {
     "name": "stdout",
     "output_type": "stream",
     "text": [
      "T_np is [0.         0.03678794 0.04067102 0.04496396 0.04971004 0.05495708\n",
      " 0.06075796 0.06717115 0.07426126 0.08209975 0.09076562 0.10034619\n",
      " 0.11093803 0.12264786 0.1355937  0.14990602 0.16572904 0.18322222\n",
      " 0.20256186 0.22394286 0.24758068 0.27371355 0.30260482 0.33454564\n",
      " 0.36985791 0.4088975  0.45205783 0.49977385 0.55252645 0.61084723\n",
      " 0.67532394 0.74660636 0.82541285 0.91253759 1.00885861 1.11534659\n",
      " 1.23307468 1.36322933 1.50712217 1.66620333 1.84207597 2.03651248\n",
      " 2.25147233 2.48912183 2.75185593 3.04232238 3.36344841 3.71847024\n",
      " 4.11096566 4.54489012 5.02461657]\n",
      "T_scaled_np is [     0.            735.75888234    813.42038634    899.27928944\n",
      "    994.20085113   1099.14166153   1215.15928169   1343.42290131\n",
      "   1485.22512147   1641.9949811    1815.31235837   2006.92389221\n",
      "   2218.76058439   2452.95725959   2711.87407948   2998.12032771\n",
      "   3314.58070543   3664.44440247   4051.23723698   4478.85718752\n",
      "   4951.61367571   5474.27099526   6052.09632498   6690.91280986\n",
      "   7397.15824489   8177.94995315   9041.15651202   9995.47705026\n",
      "  11050.52891512  12216.94459303  13506.47886048  14932.12724502\n",
      "  16508.25699021  18250.75184418  20177.17213123  22306.93171926\n",
      "  24661.49366677  27264.58652092  30142.4434465   33324.06659564\n",
      "  36841.5193825   40730.24960852  45029.44669433  49782.43661864\n",
      "  55037.11854405  60846.44753001  67268.9681975   74369.40472367\n",
      "  82219.31311201  90897.80231171 100492.3314531 ]\n"
     ]
    }
   ],
   "source": [
    "# scaled_time_intervals \n",
    "\n",
    "mu = 2e-08\n",
    "alpha = 0.1\n",
    "N_0 = 10000 # TODO, use sim\n",
    "Tmax = 15\n",
    "N_T = 50\n",
    "T = [0]\n",
    "for i in range(0,N_T): # TODO: should T have upper interval\n",
    "        T.append( alpha*math.exp( (i/N_T)*math.log(1 + Tmax/alpha) - 1))\n",
    "T_np = np.array(T) # convert to numpy\n",
    "# scale these to generations with *2*N_0, as per Schiffels' instruction\n",
    "T_scaled_np = T_np * 2 * N_0\n",
    "\n",
    "print(f'T_np is {T_np}')\n",
    "print(f'T_scaled_np is {T_scaled_np}')"
   ]
  },
  {
   "cell_type": "code",
   "execution_count": 57,
   "metadata": {},
   "outputs": [],
   "source": [
    "# structure: parameters\n",
    "\n",
    "def structure_parameters(n=2,N=10000,m=5e-04,mew=2e-08):\n",
    "    \n",
    "# n: number of demes\n",
    "# N: constant size of each island\n",
    "# m: Nm is the number of genes in each island every generation. So let's say Nm = 10, then m = 10/N = 0.001\n",
    "# mew: mutation raite\n",
    "\n",
    "    # then population mutation rate is 2*N*n*mu\n",
    "    theta = 2*N*n*mu\n",
    "\n",
    "    M = 2*N*m\n",
    "    \n",
    "    # so, by Mazet (2016):\n",
    "    gamma = M/(n-1)\n",
    "\n",
    "    # discriminant of theta^ + theta(1-n*gamma) + gamma is:\n",
    "    delta = (1+n*gamma)**2 - 4*gamma\n",
    "\n",
    "    # alpha \n",
    "    alpha = 0.5*(1+n*gamma + np.sqrt(delta))\n",
    "\n",
    "    # beta is\n",
    "    beta = 0.5*(1+n*gamma - np.sqrt(delta))\n",
    "\n",
    "    # then a and c\n",
    "    a = (gamma - alpha)/(beta-alpha)\n",
    "    c = gamma/(beta - alpha)\n",
    "\n",
    "    print(f'a, c, alpha, beta, gamma is {a,c,alpha,beta,gamma}')\n",
    "    print(f'theta, Nn (total pop size) is {theta,N*n}')\n",
    "    \n",
    "    return a, c, alpha, beta, gamma\n",
    "\n",
    "## F_T2\n",
    "def F_T2(x,n,N,m,mew):\n",
    "    a,c,alpha,beta,gamma = structure_parameters(n,N,m,mew)\n",
    "    F = (1/n)*(\n",
    "        (-a/alpha)*np.exp(-alpha*(x)) -((1-a)/beta)*np.exp(-beta*(x)) - (c/alpha)*np.exp(-alpha*(x)) + (c/beta)*np.exp(-beta*(x))\n",
    "        -(-a/alpha - (1-a)/beta -c/alpha + c/beta))\n",
    "    return F\n",
    "\n",
    "def f_T2(x,n,N,m,mew):\n",
    "    a,c,alpha,beta,gamma = structure_parameters(n,N,m,mew)\n",
    "    same_deme = a*np.exp(-alpha*(x)) + (1-a)*np.exp(-beta*(x))\n",
    "    diff_deme = c*np.exp(-alpha*(x)) - c*np.exp(-beta*(x))\n",
    "    f = (1/n)*(same_deme+diff_deme) # TODO maybe do that division thing here\n",
    "    return f\n",
    "    \n",
    "## time intervals \n",
    "spacing = 100\n",
    "time_intervals = np.arange(min_time,max_time,spacing)\n",
    "# (len(time_intervals)/15)\n",
    "N_e = 1e+04\n",
    "n = 2\n",
    "N = 0.5e+04\n",
    "m = 0.001\n",
    "mew = 2e-08"
   ]
  },
  {
   "cell_type": "code",
   "execution_count": 1,
   "metadata": {
    "scrolled": false
   },
   "outputs": [
    {
     "ename": "NameError",
     "evalue": "name 'T_scaled_np' is not defined",
     "output_type": "error",
     "traceback": [
      "\u001b[0;31m---------------------------------------------------------------------------\u001b[0m",
      "\u001b[0;31mNameError\u001b[0m                                 Traceback (most recent call last)",
      "\u001b[0;32m<ipython-input-1-758facf00005>\u001b[0m in \u001b[0;36m<module>\u001b[0;34m()\u001b[0m\n\u001b[1;32m      2\u001b[0m \u001b[0;31m# for i in range(N_T):\u001b[0m\u001b[0;34m\u001b[0m\u001b[0;34m\u001b[0m\u001b[0;34m\u001b[0m\u001b[0m\n\u001b[1;32m      3\u001b[0m \u001b[0mi\u001b[0m \u001b[0;34m=\u001b[0m \u001b[0;36m0\u001b[0m\u001b[0;34m\u001b[0m\u001b[0;34m\u001b[0m\u001b[0m\n\u001b[0;32m----> 4\u001b[0;31m \u001b[0mmin_time\u001b[0m \u001b[0;34m=\u001b[0m \u001b[0mT_scaled_np\u001b[0m\u001b[0;34m[\u001b[0m\u001b[0mi\u001b[0m\u001b[0;34m]\u001b[0m\u001b[0;34m\u001b[0m\u001b[0;34m\u001b[0m\u001b[0m\n\u001b[0m\u001b[1;32m      5\u001b[0m \u001b[0mmax_time\u001b[0m \u001b[0;34m=\u001b[0m \u001b[0mT_scaled_np\u001b[0m\u001b[0;34m[\u001b[0m\u001b[0mi\u001b[0m\u001b[0;34m+\u001b[0m\u001b[0;36m1\u001b[0m\u001b[0;34m]\u001b[0m\u001b[0;34m\u001b[0m\u001b[0;34m\u001b[0m\u001b[0m\n\u001b[1;32m      6\u001b[0m \u001b[0mdivisions\u001b[0m \u001b[0;34m=\u001b[0m \u001b[0;34m(\u001b[0m\u001b[0mmax_time\u001b[0m \u001b[0;34m-\u001b[0m \u001b[0mmin_time\u001b[0m\u001b[0;34m)\u001b[0m\u001b[0;34m/\u001b[0m\u001b[0mspacing\u001b[0m\u001b[0;34m\u001b[0m\u001b[0;34m\u001b[0m\u001b[0m\n",
      "\u001b[0;31mNameError\u001b[0m: name 'T_scaled_np' is not defined"
     ]
    }
   ],
   "source": [
    "\n",
    "# for i in range(N_T):\n",
    "i = 0\n",
    "min_time = T_scaled_np[i]\n",
    "max_time = T_scaled_np[i+1]\n",
    "divisions = (max_time - min_time)/spacing\n",
    "time_intervals0 = (np.arange(min_time,max_time,divisions))/N_e\n",
    "f_0 = f_T2(time_intervals,n,N,m,mew)/(len(time_intervals)/15) # TODO discretise n, N m and mew\n",
    "F_0 = F_T2(time_intervals,n,N,m,mew)\n",
    "print('for i = {},\\nmin time is {}\\nmax time is {}\\ntime_intervals are \\n{}'.format(i,min_time,max_time,time_intervals))\n",
    "print('f_0 is {}'.format(f_0))\n",
    "print('F_0 is {}'.format(F_0))\n",
    "\n",
    "iCR0_obs = [(1-F_0[i])/(2*f_0[i]) for i in range(len(f_0)) ] # this returns the CR of the history, defined as (1-F_T2(t))/f_T2(t)\n",
    "iCR0 = [(1-f_T2(time_intervals0,n,N,m,mew))/(f_T2(time_intervals0,n,N,m,mew))]\n",
    "\n",
    "plt.plot(time_intervals0,f_0)\n",
    "plt.title('f_0')\n",
    "plt.show()\n",
    "plt.plot(time_intervals0,F_0)\n",
    "plt.title('F_0')\n",
    "plt.show()\n",
    "plt.plot(time_intervals0,iCR0_obs)\n",
    "plt.title('iCR0_obs')\n",
    "plt.show()\n",
    "plt.plot(time_intervals0,iCR0[0])\n",
    "plt.title('iCR0')\n",
    "plt.show()\n",
    "\n",
    "\n",
    "i = 1\n",
    "\n",
    "\n",
    "min_time = T_scaled_np[i]\n",
    "max_time = T_scaled_np[i+1]\n",
    "divisions = (max_time - min_time)/spacing\n",
    "time_intervals1 = (np.arange(min_time,max_time,divisions))/N_e - min_time/N_e\n",
    "print('for i = {},\\nmin time is {}\\nmax time is {}\\ntime_intervals are \\n{}'.format(i,min_time,max_time,time_intervals))\n",
    "f_1 = (1-F_0[-1]) * f_T2(time_intervals1,n,N,m,mew)\n",
    "F_1 = F_0[-1] + (1-F_0[-1])*F_T2(time_intervals1,n,N,m,mew)\n",
    "iCR1_obs = [(1-F_1[i])/(2*f_1[i]) for i in range(len(f_1)) ] # this returns the CR of the history, defined as (1-F_T2(t))/f_T2(t)\n",
    "iCR1 = [(1-f_T2(time_intervals1,n,N,m,mew))/(f_T2(time_intervals1,n,N,m,mew))]\n",
    "\n",
    "plt.plot(time_intervals1 +  min_time/N_e,f_1/(len(time_intervals)/15))\n",
    "plt.title('f_1')\n",
    "plt.show()\n",
    "plt.plot(time_intervals1 +  min_time/N_e,F_1)\n",
    "plt.title('F_1')\n",
    "plt.show()\n",
    "\n",
    "plt.plot(time_intervals0,f_0)\n",
    "plt.plot(time_intervals1 +  min_time/N_e,f_1)\n",
    "\n",
    "plt.show()\n",
    "plt.plot(time_intervals0,F_0)\n",
    "plt.plot(time_intervals1 +  min_time/N_e,F_1)\n",
    "plt.show()\n",
    "\n",
    "plt.plot(time_intervals1,iCR1_obs)\n",
    "plt.title('iCR1_obs')\n",
    "plt.show()\n",
    "plt.plot(time_intervals1,iCR1[0])\n",
    "plt.title('iCR1')\n",
    "plt.show()\n",
    "\n",
    "plt.plot(time_intervals0)\n",
    "plt.plot(time_intervals1+min_time/N_e)\n",
    "plt.title('time intervals')\n",
    "plt.show()"
   ]
  },
  {
   "cell_type": "code",
   "execution_count": 82,
   "metadata": {},
   "outputs": [
    {
     "data": {
      "text/plain": [
       "array([1.        , 1.00146667, 1.00292372, 1.00437128, 1.00580947,\n",
       "       1.00723842, 1.00865825, 1.01006908, 1.01147104, 1.01286422,\n",
       "       1.01424877, 1.01562478, 1.01699237, 1.01835166, 1.01970276,\n",
       "       1.02104577, 1.02238081, 1.02370799, 1.0250274 , 1.02633916,\n",
       "       1.02764337, 1.02894012, 1.03022953, 1.0315117 , 1.03278671,\n",
       "       1.03405468, 1.03531569, 1.03656984, 1.03781722, 1.03905794,\n",
       "       1.04029208, 1.04151973, 1.04274098, 1.04395592, 1.04516463,\n",
       "       1.04636722, 1.04756375, 1.04875432, 1.049939  , 1.05111789,\n",
       "       1.05229105, 1.05345858, 1.05462055, 1.05577704, 1.05692813,\n",
       "       1.05807389, 1.05921439, 1.06034972, 1.06147995, 1.06260515,\n",
       "       1.06372539, 1.06484074, 1.06595127, 1.06705705, 1.06815815,\n",
       "       1.06925464, 1.07034658, 1.07143404, 1.07251708, 1.07359576,\n",
       "       1.07467016, 1.07574033, 1.07680633, 1.07786822, 1.07892607,\n",
       "       1.07997993, 1.08102987, 1.08207593, 1.08311817, 1.08415666,\n",
       "       1.08519144, 1.08622258, 1.08725012, 1.08827412, 1.08929463,\n",
       "       1.0903117 , 1.09132539, 1.09233574, 1.0933428 , 1.09434663,\n",
       "       1.09534727, 1.09634476, 1.09733917, 1.09833052, 1.09931888,\n",
       "       1.10030428, 1.10128677, 1.10226639, 1.10324319, 1.10421721,\n",
       "       1.10518848, 1.10615707, 1.107123  , 1.10808631, 1.10904705,\n",
       "       1.11000526, 1.11096097, 1.11191422, 1.11286505, 1.11381351])"
      ]
     },
     "execution_count": 82,
     "metadata": {},
     "output_type": "execute_result"
    }
   ],
   "source": [
    "iCR0[0]"
   ]
  },
  {
   "cell_type": "code",
   "execution_count": 41,
   "metadata": {},
   "outputs": [
    {
     "name": "stdout",
     "output_type": "stream",
     "text": [
      "Calculating theoretical TM probablities.\n",
      "expected_times conforms with T.\n",
      "Finished.\n"
     ]
    },
    {
     "name": "stderr",
     "output_type": "stream",
     "text": [
      "/home/trevor/ancestry/heatmaps_generate.py:27: UserWarning: Matplotlib is currently using module://ipykernel.pylab.backend_inline, which is a non-GUI backend, so cannot show the figure.\n",
      "  fig.show()\n"
     ]
    },
    {
     "data": {
      "image/png": "[encoded data removed]",
      "text/plain": [
       "<Figure size 432x288 with 2 Axes>"
      ]
     },
     "metadata": {
      "needs_background": "light"
     },
     "output_type": "display_data"
    }
   ],
   "source": [
    "pop_size = [10000 for i in range(0,50)] # set array of population sizes (for the lambda array)\n",
    "ab_tm_nd, ab_tm = abinitio(pop_size,T_np,N_0,N_T) # generate theoretical probabilities of this matrix \n",
    "heatmaps_seq(normalise(ab_tm_nd,'colmax'),title='theoretical TM, constant pop size') # normalise this matrix and then plot heatmap\n",
    "\n"
   ]
  },
  {
   "cell_type": "code",
   "execution_count": 42,
   "metadata": {},
   "outputs": [],
   "source": [
    "def const_pop(seq_length):\n",
    "    N_A = 10000\n",
    "    population_configurations = [\n",
    "        msprime.PopulationConfiguration(\n",
    "            sample_size=2, initial_size=N_A,growth_rate=0)\n",
    "    ]\n",
    "    migration_matrix = [\n",
    "        [0],\n",
    "        ]\n",
    "    demographic_events = [\n",
    "    ]\n",
    "    # Use the demography debugger to print out the demographic history\n",
    "    # that we have just described.\n",
    "    dd = msprime.DemographyDebugger(\n",
    "        population_configurations=population_configurations,\n",
    "        migration_matrix=migration_matrix,\n",
    "        demographic_events=demographic_events)\n",
    "    dd.print_history()\n",
    "    sim = msprime.simulate(population_configurations=population_configurations,\n",
    "                           migration_matrix=migration_matrix,\n",
    "                           demographic_events=demographic_events, length=seq_length, recombination_rate=2e-8,mutation_rate=2e-8)\n",
    "    return sim"
   ]
  },
  {
   "cell_type": "code",
   "execution_count": 43,
   "metadata": {},
   "outputs": [],
   "source": [
    "parser = argparse.ArgumentParser()\n",
    "parser.add_argument(\"model\",help=\"Specify the model to be used, as defined in msprime_models.\")\n",
    "parser.add_argument(\"--print\",help=\"Print the DemographicDebugger (from msprime) and the number of segratating sites\",action=\"store_true\")\n",
    "parser.add_argument(\"--tree\",help=\"Draw trees and info per segment\",action=\"store_true\")\n",
    "parser.add_argument(\"-bin\",\"--bin_length\",help=\"The length (in bases) of the how wide you want each bin. (Default is 100)\",default=100,type=int)\n",
    "parser.add_argument(\"-N_T\",\"--Number_of_states\",help=\"The number of states you want, for the time intervals (Default is 50)\",default=50,type=int)\n",
    "args = parser.parse_args(\"m0001\".split())"
   ]
  },
  {
   "cell_type": "code",
   "execution_count": null,
   "metadata": {},
   "outputs": [],
   "source": [
    "sim = const_pop(150e+06)\n"
   ]
  },
  {
   "cell_type": "code",
   "execution_count": 48,
   "metadata": {},
   "outputs": [
    {
     "name": "stderr",
     "output_type": "stream",
     "text": [
      "/home/trevor/ancestry/heatmaps_generate.py:27: UserWarning: Matplotlib is currently using module://ipykernel.pylab.backend_inline, which is a non-GUI backend, so cannot show the figure.\n",
      "  fig.show()\n"
     ]
    },
    {
     "data": {
      "image/png": "[encoded data removed]",
      "text/plain": [
       "<Figure size 432x288 with 2 Axes>"
      ]
     },
     "metadata": {
      "needs_background": "light"
     },
     "output_type": "display_data"
    }
   ],
   "source": [
    "tmrca_data = get_coal_data(sim, args) # get true coalescent \n",
    "coal_times = round_bin_coal_data(sim.sequence_length,tmrca_data, args) # partition coalescent data into bins  \n",
    "# T_scaled, T, N_0 = scaled_time_intervals(sim,N_T = args.Number_of_states) # get scaled time intervals\n",
    "coal_times_intervals = round_coal_times(coal_times,T_scaled_np,N_T=args.Number_of_states) # round binned coalescent times into their respected interval\n",
    "tm = tm_counts(coal_times_intervals,N_T=args.Number_of_states) # generate a matrix of counts, where each element counts the number of times state j transitions to state i for matrix [i,j]\n",
    "\n",
    "# remove diagonals. let nd stand for 'nodiagonals'\n",
    "tm_nd = np.copy(tm)\n",
    "tm_nd[range(0,len(tm)),range(0,len(tm))] = 0\n",
    "tm_nd_norm = normalise(tm_nd,'colsum') # normalise over max of each columnn (return a probability distribution over columns)\n",
    "\n",
    "heatmaps_seq(normalise(tm_nd,'colmax'),title='Normalised true TM') # show heatmap\n"
   ]
  },
  {
   "cell_type": "code",
   "execution_count": 44,
   "metadata": {},
   "outputs": [
    {
     "data": {
      "text/plain": [
       "array([     0.        ,    735.75888234,    813.42038634,    899.27928944,\n",
       "          994.20085113,   1099.14166153,   1215.15928169,   1343.42290131,\n",
       "         1485.22512147,   1641.9949811 ,   1815.31235837,   2006.92389221,\n",
       "         2218.76058439,   2452.95725959,   2711.87407948,   2998.12032771,\n",
       "         3314.58070543,   3664.44440247,   4051.23723698,   4478.85718752,\n",
       "         4951.61367571,   5474.27099526,   6052.09632498,   6690.91280986,\n",
       "         7397.15824489,   8177.94995315,   9041.15651202,   9995.47705026,\n",
       "        11050.52891512,  12216.94459303,  13506.47886048,  14932.12724502,\n",
       "        16508.25699021,  18250.75184418,  20177.17213123,  22306.93171926,\n",
       "        24661.49366677,  27264.58652092,  30142.4434465 ,  33324.06659564,\n",
       "        36841.5193825 ,  40730.24960852,  45029.44669433,  49782.43661864,\n",
       "        55037.11854405,  60846.44753001,  67268.9681975 ,  74369.40472367,\n",
       "        82219.31311201,  90897.80231171, 100492.3314531 ])"
      ]
     },
     "execution_count": 44,
     "metadata": {},
     "output_type": "execute_result"
    }
   ],
   "source": []
  },
  {
   "cell_type": "markdown",
   "metadata": {},
   "source": [
    "## Num Replicates with T2 times"
   ]
  },
  {
   "cell_type": "code",
   "execution_count": null,
   "metadata": {},
   "outputs": [],
   "source": []
  }
 ],
 "metadata": {
  "kernelspec": {
   "display_name": "Python 3",
   "language": "python",
   "name": "python3"
  },
  "language_info": {
   "codemirror_mode": {
    "name": "ipython",
    "version": 3
   },
   "file_extension": ".py",
   "mimetype": "text/x-python",
   "name": "python",
   "nbconvert_exporter": "python",
   "pygments_lexer": "ipython3",
   "version": "3.6.9"
  }
 },
 "nbformat": 4,
 "nbformat_minor": 4
}
