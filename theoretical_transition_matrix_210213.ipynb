{
 "cells": [
  {
   "cell_type": "markdown",
   "metadata": {},
   "source": [
    "# Theoretical Transition Matrix\n",
    "\n",
    "Trying to match theoretical transition matrix with observed matrix. This draws off work from theoretical_transition_matrix_Copy210202"
   ]
  },
  {
   "cell_type": "code",
   "execution_count": 9,
   "metadata": {},
   "outputs": [],
   "source": [
    "# from abinitio_tm import abinitio \n",
    "import numpy as np\n",
    "from msprime_models import * \n",
    "# from abinitio_tm import scaled_time_intervals\n",
    "# from msprime_utils import scaled_time_intervals, get_het, round_coal_times, tm_counts, get_coal_data, round_bin_coal_data, normalise\n",
    "from msprime_utils import *\n",
    "from heatmaps_generate import * \n",
    "from vcf_mhs import *\n",
    "import argparse\n",
    "from matplotlib.patches import Rectangle\n",
    "import pdb\n",
    "\n",
    "\n",
    "\n",
    "# change plot size\n",
    "plt.rcParams['figure.figsize'] = [12, 8]"
   ]
  },
  {
   "cell_type": "code",
   "execution_count": 2,
   "metadata": {},
   "outputs": [],
   "source": [
    "# this script generates a tm as per Schiffels' equations - i.e. these are the theoretical transition probabilities\n",
    "\n",
    "import math\n",
    "import numpy as np\n",
    "import pdb\n",
    "\n",
    "def corrected_abinitio(T,N_T,pop_size,N_0,mu=2e-08,r=2e-08):\n",
    "    \"\"\"\n",
    "    inputs:\n",
    "    pop_size in absolute diploid...these will be scaled\n",
    "    T: time_array in coalescent time (gens/(2*N))\n",
    "    N_T: number of states\n",
    "    \"\"\"\n",
    "    print(f'pop_size is {pop_size}')\n",
    "    def lambda_(int):\n",
    "        lambd= N_0/(pop_size[int])\n",
    "        return lambd\n",
    "    \n",
    "    def L(time1,time2):\n",
    "        \"\"\"\n",
    "        L is the probability of not coalescing between time1 and time2)\n",
    "        time is in coalescent units\n",
    "        There are 4 possibilities:\n",
    "        time1 and time2 continuous\n",
    "        time1 continuous time2 discrete\n",
    "        time2 continuous time1 discrete\n",
    "        time1 and time2 discrete\"\"\"\n",
    "        ind1 = np.argmin(abs(T - time1)) #ind1 is index of lower time interval for time1\n",
    "        if T[ind1] <= time1:\n",
    "            low_T1 = T[ind1]\n",
    "            high_T1 = T[ind1+1]\n",
    "        elif T[ind1] > time1:\n",
    "            low_T1 = T[ind1-1]\n",
    "            high_T1 = T[ind1]\n",
    "            ind1 = ind1 - 1\n",
    "        else:\n",
    "            print('Problem: T[ind1] is {} and time1 is {}'.format(ind1,time1))\n",
    "        ind2 = np.argmin(abs(T - time2))\n",
    "        if T[ind2] <= time2:\n",
    "            low_T2 = T[ind2]\n",
    "            high_T2 = T[ind2+1]\n",
    "        elif T[ind2] > time2:\n",
    "            low_T2 = T[ind2-1]\n",
    "            high_T2 = T[ind2]\n",
    "            ind2 = ind2 - 1\n",
    "        # sum\n",
    "        if low_T1 == low_T2:\n",
    "            L = math.exp(-(time2 - time1)*lambda_(ind1))\n",
    "        else:\n",
    "            sum = 0\n",
    "            for i in range(ind1+1,ind2):\n",
    "                sum = sum + lambda_(i)*delta(i,T)\n",
    "            L = math.exp(-(high_T1 - time1)*lambda_(ind1) - sum - (time2 - low_T2)*lambda_(ind2))\n",
    "        return L\n",
    "\n",
    "    def delta(int,T):\n",
    "        # difference in each time interval\n",
    "        delta_ = T[int+1] - T[int]\n",
    "        return delta_\n",
    "    \n",
    "    def expected_time(int, T):\n",
    "        sum = 0\n",
    "        for i in range(0, int): # want  range from 0 to beta-1, which is completed by range(0,beta) in python\n",
    "            sum = sum + lambda_(i) * delta(i,T)\n",
    "        numerator =  math.exp(-sum)* (\n",
    "            (T[int]*lambda_(int) + 1) -  math.exp(-delta(int,T)*lambda_(int))*(T[int+1]*lambda_(int) + 1)\n",
    "        )\n",
    "        denominator = L(0,T[int]) * (1-math.exp(-delta(int,T)*lambda_(int))) * lambda_(int)\n",
    "\n",
    "        expec_time = numerator / denominator\n",
    "        return expec_time\n",
    "\n",
    "    \n",
    "    def expected_time_check(expected_times,T):\n",
    "        good = None\n",
    "        if len(expected_times) != (len(T)-1):\n",
    "            print('Error!\\nexpected_time and T do not conform in length.\\nLength of T is {} and length of expected_times is {} Aborting.'.format(len(T),len(expected_times)))\n",
    "            sys.exit()\n",
    "        for i in range(0,len(expected_times)):\n",
    "            if not expected_times[i] > T[i] and expected_times[i] < T[i+1]:\n",
    "                print('Error!\\nexpected_time is not behaving as expected. For int {}, expected_times is {} but intervals are {} and {}'.format(i,expected_times[i],T[i],T[i+1]))\n",
    "                print('Continuing...')\n",
    "                good = False\n",
    "            else:\n",
    "               good = True\n",
    "        if good:\n",
    "            print('expected_times conforms with T.')\n",
    "        return None\n",
    "    \n",
    "    # stationary distribution, eq 23\n",
    "    # do i even use this?\n",
    "    def q_0(int):\n",
    "        q_0 = L(T[0],T[int]) * (1 - math.exp(-delta(int,T) * lambda_(int)))\n",
    "    \n",
    "    def q_2_sum1(alpha):\n",
    "        sum_q = 0\n",
    "        for j in range(0,alpha-1+1): # sum in eq 26 is to (alpha - 1), but add to range one so python includes the (alpha -1) term\n",
    "            iteration = (1/(2*lambda_(j)))*(1 - math.exp(-2*lambda_(j)*delta(j,T)))*(L(T[j+1],T[alpha])**2)\n",
    "            sum_q = sum_q + iteration\n",
    "        return sum_q\n",
    "\n",
    "    # function to write upper triangular of q_2, eq 26. Give as input an N_T x N_T matrix\n",
    "    def upper_diag(q_2):\n",
    "        for alpha in range(0,N_T):\n",
    "            for beta in range (alpha+1,N_T):\n",
    "                q_2[alpha, beta] = (1 - math.exp(-2 * rho * expected_time(beta,T))) * (1 / expected_time(beta,T)) * lambda_(alpha) * (\n",
    "                        (1/(2*lambda_(alpha)))*(1 - math.exp(-2 * delta(alpha,T) * lambda_(alpha))) * q_2_sum1(alpha) + (1 / (2 * lambda_(alpha))) * (delta(alpha,T) - (1 / (2 * lambda_(alpha))) * (1 - math.exp(-2 * delta(alpha,T) * lambda_(alpha))))\n",
    "                                )\n",
    "                pre = (1 - math.exp(-2 * rho * expected_time(beta,T))) * (1 / expected_time(beta,T)) * lambda_(alpha) \n",
    "                A = (1/(2*lambda_(alpha)))*(1 - math.exp(-2 * delta(alpha,T) * lambda_(alpha))) * q_2_sum1(alpha) \n",
    "#                 print('with L(alpha)^2 = {} and H_i(alpha) = {} and H_alpha(alpha)= {}'.format(L(T[alpha+1],T[alpha])**2,(1/(2*lambda_(j)))*(1 - math.exp(-2*lambda_(j)*delta(j,T))),(1/(2*lambda_(alpha)))*(1 - math.exp(-2 * delta(alpha,T) * lambda_(alpha)))))\n",
    "                B = (1 / (2 * lambda_(alpha))) * (delta(alpha,T) - (1 / (2 * lambda_(alpha))) * (1 - math.exp(-2 * delta(alpha,T) * lambda_(alpha))))\n",
    "#                 print('\\n\\nUpper_diag:\\nFor alpha  {} and beta {} we have q_2[alpha,beta] = {}\\nwith pre = {}\\nA = {}\\nand B = {}'.format(alpha,beta,q_2[alpha,beta],pre,A,B))\n",
    "        return q_2\n",
    "\n",
    "    # this is for the summation in lower diag of q_2, eq 28. j is lowercase gamma\n",
    "    def q_2_sum2(beta):\n",
    "        sum_q = 0\n",
    "        for j in range(0,beta-1+1): # sum in eq 28 is to (beta - 1), but add to range one so python includes the (beta -1) term\n",
    "            iteration = (L(T[j+1],expected_time(beta,T))**2)*(1/(2*lambda_(j)))*(1 - math.exp(-2*lambda_(j)*delta(j,T)))\n",
    "            sum_q = sum_q + iteration\n",
    "        return sum_q\n",
    "\n",
    "    # function to write lower triangular of q_2, eq 28. Give as input an N_T x N_T matrix - can be nonempty (though lower traingular will be overwritten)\n",
    "    def lower_diag(q_2):\n",
    "        for alpha in range (0,N_T):\n",
    "            for beta in range(0,alpha):\n",
    "                q_2[alpha, beta] = L(expected_time(beta,T), T[alpha]) * (1 / lambda_(alpha)) * (1 - math.exp(-delta(alpha,T) * lambda_(alpha))) * (1 - math.exp(-2 * rho * expected_time(beta,T))) * (1 / expected_time(beta,T)) * lambda_(alpha) * (\n",
    "                                        q_2_sum2(beta) + (1 / (2 * lambda_(beta))) * (1 - math.exp(-2 * lambda_(beta) * (expected_time(beta,T) - T[beta])))\n",
    "                                )\n",
    "                pre = L(expected_time(beta,T), T[alpha]) * (1 / lambda_(alpha)) * (1 - math.exp(-delta(alpha,T) * lambda_(alpha))) * (1 - math.exp(-2 * rho * expected_time(beta,T))) * (1 / expected_time(beta,T)) * lambda_(alpha) \n",
    "                A = q_2_sum2(beta)\n",
    "                B = (1 / (2 * lambda_(beta))) * (1 - math.exp(-2 * lambda_(beta) * (expected_time(beta,T) - T[beta])))\n",
    "#                 print('\\n\\nLower_diag:\\nFor alpha  {} and beta {} we have q_2[alpha,beta] = {}\\nwith pre = {}\\nA = {}\\nand B = {}'.format(alpha,beta,q_2[alpha,beta],pre,A,B))\n",
    "\n",
    "        return q_2\n",
    "\n",
    "    # flagpan\n",
    "    \n",
    "    lambda_array = [lambda_(i) for i in range(0,N_T)]\n",
    "    print(lambda_array)\n",
    "    \n",
    "    rho = 2 * N_0 * r # is rho population or per gen per bp?\n",
    "    expected_times = [expected_time(i,T) for i in range(0,len(T)-1)]\n",
    "    expected_time_check(expected_times,T)\n",
    "    \n",
    "    # initialise q_2, which is whole transition matrix\n",
    "    q_2 = np.zeros(shape=(N_T,N_T))\n",
    "    q_2_upper = np.zeros(shape=(N_T,N_T))\n",
    "    q_2_lower = np.zeros(shape=(N_T,N_T))\n",
    "    \n",
    "    q_2_upper = upper_diag(q_2_upper)\n",
    "    q_2_lower = lower_diag(q_2_lower)\n",
    "    \n",
    "    q_2 = q_2_upper + q_2_lower\n",
    "    \n",
    "\n",
    "    # initialise q_1\n",
    "    # old q_1 = [1 - sum(q_2[i,0:N_T]) for i in range(0,N_T)]\n",
    "    q_1 = [1 - sum(q_2[:,i]) for i in range(0,N_T)]\n",
    "\n",
    "    # eq 30, combine q_1 and q_2\n",
    "    q_ = np.copy(q_2)\n",
    "    for i in range(0,q_.shape[0]):\n",
    "        q_[i,i] = q_1[i]\n",
    "\n",
    "    print('Finished')\n",
    "    \"\"\"\n",
    "    q_2 is full N_T x N_T matrix with empty diagonals\n",
    "    q_2_upper is the upper triangular of q\n",
    "    q_2 is the lower triangular of q\n",
    "    q_1 is 1 x N_T array of diagonals \n",
    "    q_ is full N_T x N_T matrix\n",
    "    \"\"\"\n",
    "    return q_2, q_2_upper, q_2_lower, q_1, q_\n",
    "\n",
    "def remove_diagonals(matrix):\n",
    "    # remove diagonals from a matrix and return everything else the same\n",
    "    # matrix should be np array\n",
    "    for i in range(0,len(matrix)):\n",
    "        matrix[i,i] = 0\n",
    "    return matrix\n",
    "\n",
    "# this heatmap works well for values between -1 and 1\n",
    "def heatmaps_div_patch(matrix,title='',patch=[1,1]):\n",
    "    cmaps = OrderedDict()\n",
    "    cmaps['Diverging'] = [\n",
    "        'PiYG', 'PRGn', 'BrBG', 'PuOr', 'RdGy', 'RdBu',\n",
    "        'RdYlBu', 'RdYlGn', 'Spectral', 'coolwarm', 'bwr', 'seismic']\n",
    "\n",
    "    fig = plt.figure()\n",
    "    ax = fig.add_subplot(111)\n",
    "    ax1 = sns.heatmap(matrix, cmap=cmaps['Diverging'][11], center=0,yticklabels=False, xticklabels=False)\n",
    "    ax1.set_title(title)\n",
    "    ax.add_patch(Rectangle((0, patch[0]), len(matrix), patch[1], fill=False, edgecolor='black', lw=2))\n",
    "#     ax.set_title(plot_title)\n",
    "    # ax.set_ylabel(ylabel='PSMC output')\n",
    "    fig.show()\n",
    "    # fig.savefig(heatmaps_path + sys.argv[4])\n",
    "    return None\n"
   ]
  },
  {
   "cell_type": "code",
   "execution_count": 76,
   "metadata": {},
   "outputs": [],
   "source": [
    "def structuredsplit_abinitio(T,N_T,pop_size,gamma_array,N_0,mu=2e-08,r=2e-08):\n",
    "    # written 210213ymd\n",
    "    \"\"\"\n",
    "    inputs:\n",
    "    pop_size in absolute diploid...these will be scaled\n",
    "    T: time_array in coalescent time (gens/(2*N))\n",
    "    N_T: number of states\n",
    "    \"\"\"\n",
    "    print(f'pop_size is {pop_size}')\n",
    "    def lambda_(int):\n",
    "        lambd= N_0/(pop_size[int])\n",
    "        return lambd\n",
    "    def sigma(int):\n",
    "        sig = (1-gamma_array[int])**2 + (gamma_array[int])**2\n",
    "        return sig\n",
    "    def psis_finder(gamma_array):\n",
    "        # find the first change in gamma (psi_s) and last change in gamma (psi_e)\n",
    "        # for now, assume there is only one period of structure\n",
    "        try:\n",
    "            psi_s = np.where(gamma_array!=1)[0][0]\n",
    "            psi_e = np.where(gamma_array!=1)[0][-1]\n",
    "        except:\n",
    "            psi_e = None\n",
    "            psi_s = None\n",
    "#             print('Psi is None')\n",
    "        return psi_s, psi_e\n",
    "    \n",
    "    def L(time1,time2):\n",
    "        \"\"\"\n",
    "        L is the probability of not coalescing between time1 and time2)\n",
    "        time is in coalescent units\n",
    "        There are 4 possibilities:\n",
    "        time1 and time2 continuous\n",
    "        time1 continuous time2 discrete\n",
    "        time2 continuous time1 discrete\n",
    "        time1 and time2 discrete\"\"\"\n",
    "        ind1 = np.argmin(abs(T - time1)) #ind1 is index of lower time interval for time1\n",
    "        if T[ind1] <= time1:\n",
    "            low_T1 = T[ind1]\n",
    "            high_T1 = T[ind1+1]\n",
    "        elif T[ind1] > time1:\n",
    "            low_T1 = T[ind1-1]\n",
    "            high_T1 = T[ind1]\n",
    "            ind1 = ind1 - 1\n",
    "        else:\n",
    "            print('Problem: T[ind1] is {} and time1 is {}'.format(ind1,time1))\n",
    "        ind2 = np.argmin(abs(T - time2))\n",
    "        if T[ind2] <= time2:\n",
    "            low_T2 = T[ind2]\n",
    "            high_T2 = T[ind2+1]\n",
    "        elif T[ind2] > time2:\n",
    "            low_T2 = T[ind2-1]\n",
    "            high_T2 = T[ind2]\n",
    "            ind2 = ind2 - 1\n",
    "        # sum\n",
    "        if low_T1 == low_T2:\n",
    "            L = math.exp(-(time2 - time1)*lambda_(ind1))\n",
    "        else:\n",
    "            sum = 0\n",
    "            for i in range(ind1+1,ind2):\n",
    "                sum = sum + lambda_(i)*delta(i,T)\n",
    "            L = math.exp(-(high_T1 - time1)*lambda_(ind1) - sum - (time2 - low_T2)*lambda_(ind2))\n",
    "        return L\n",
    "    \n",
    "    def G(time1,time2):\n",
    "        psi_s, psi_e = psis_finder(gamma_array)\n",
    "        if psi_s is None:\n",
    "            G = L(time1,time2)\n",
    "        elif psi_s:            \n",
    "            time = np.array([time1,time2])\n",
    "            G_upperlower = np.array([None,None]) # store as [G_lower,G_upper]\n",
    "            for j in range(0,2):\n",
    "                if time[j] >= T[psi_e+1]:\n",
    "                    sig = sigma(psi_s)\n",
    "                    G_upperlower[j] = L(0,T_np[psi_s])*(1-sig + sig*L(T_np[psi_s],T_np[psi_e-7]))*L(T_np[psi_e-7],time[j])\n",
    "                else:\n",
    "                    G_upperlower[j] = L(0,time[j])\n",
    "            G = G_upperlower[1]/G_upperlower[0] # G = G_upper/G_lower\n",
    "        return G\n",
    "    \n",
    "# flagqqq\n",
    "\n",
    "    def delta(int,T):\n",
    "        # difference in each time interval\n",
    "        delta_ = T[int+1] - T[int]\n",
    "        return delta_\n",
    "    \n",
    "    def expected_time(int, T):\n",
    "        sum = 0\n",
    "        for i in range(0, int): # want  range from 0 to beta-1, which is completed by range(0,beta) in python\n",
    "            sum = sum + lambda_(i) * delta(i,T)\n",
    "        numerator =  math.exp(-sum)* (\n",
    "            (T[int]*lambda_(int) + 1) -  math.exp(-delta(int,T)*lambda_(int))*(T[int+1]*lambda_(int) + 1)\n",
    "        )\n",
    "        denominator = L(0,T[int]) * (1-math.exp(-delta(int,T)*lambda_(int))) * lambda_(int)\n",
    "\n",
    "        expec_time = numerator / denominator\n",
    "        return expec_time\n",
    "\n",
    "    \n",
    "    def expected_time_check(expected_times,T):\n",
    "        good = None\n",
    "        if len(expected_times) != (len(T)-1):\n",
    "            print('Error!\\nexpected_time and T do not conform in length.\\nLength of T is {} and length of expected_times is {} Aborting.'.format(len(T),len(expected_times)))\n",
    "            sys.exit()\n",
    "        for i in range(0,len(expected_times)):\n",
    "            if not expected_times[i] > T[i] and expected_times[i] < T[i+1]:\n",
    "                print('Error!\\nexpected_time is not behaving as expected. For int {}, expected_times is {} but intervals are {} and {}'.format(i,expected_times[i],T[i],T[i+1]))\n",
    "                print('Continuing...')\n",
    "                good = False\n",
    "            else:\n",
    "               good = True\n",
    "        if good:\n",
    "            print('expected_times conforms with T.')\n",
    "        return None\n",
    "    \n",
    "    # stationary distribution, eq 23\n",
    "    # do i even use this?\n",
    "    def q_0(int):\n",
    "        q_0 = L(T[0],T[int]) * (1 - math.exp(-delta(int,T) * lambda_(int)))\n",
    "    \n",
    "    def q_2_sum1(alpha):\n",
    "        sum_q = 0\n",
    "        for j in range(0,alpha-1+1): # sum in eq 26 is to (alpha - 1), but add to range one so python includes the (alpha -1) term\n",
    "            iteration = (1/(2*lambda_(j)))*(1 - math.exp(-2*lambda_(j)*delta(j,T)))*(G(T[j+1],T[alpha])**2)\n",
    "            sum_q = sum_q + iteration\n",
    "        return sum_q\n",
    "\n",
    "    # function to write upper triangular of q_2, eq 26. Give as input an N_T x N_T matrix\n",
    "    def upper_diag(q_2):\n",
    "        for alpha in range(0,N_T):\n",
    "            for beta in range (alpha+1,N_T):\n",
    "                q_2[alpha, beta] = (1 - math.exp(-2 * rho * expected_time(beta,T))) * (1 / expected_time(beta,T)) * lambda_(alpha) * (sigma(alpha)**2)* (\n",
    "                        (1/(2*lambda_(alpha)))*(1 - math.exp(-2 * delta(alpha,T) * lambda_(alpha))) * q_2_sum1(alpha) + (1 / (2 * lambda_(alpha))) * (delta(alpha,T) - (1 / (2 * lambda_(alpha))) * (1 - math.exp(-2 * delta(alpha,T) * lambda_(alpha))))\n",
    "                                )\n",
    "        return q_2\n",
    "\n",
    "    # this is for the summation in lower diag of q_2, eq 28. j is lowercase gamma\n",
    "    def q_2_sum2(beta):\n",
    "        sum_q = 0\n",
    "        for j in range(0,beta-1+1): # sum in eq 28 is to (beta - 1), but add to range one so python includes the (beta -1) term\n",
    "            iteration = (G(T[j+1],expected_time(beta,T))**2)*(1/(2*lambda_(j)))*(1 - math.exp(-2*lambda_(j)*delta(j,T)))\n",
    "            sum_q = sum_q + iteration\n",
    "        return sum_q\n",
    "\n",
    "    # function to write lower triangular of q_2, eq 28. Give as input an N_T x N_T matrix - can be nonempty (though lower traingular will be overwritten)\n",
    "    def lower_diag(q_2):\n",
    "        for alpha in range (0,N_T):\n",
    "            for beta in range(0,alpha):\n",
    "                q_2[alpha, beta] = L(expected_time(beta,T), T[alpha]) * (1 / lambda_(alpha)) * (1 - math.exp(-delta(alpha,T) * lambda_(alpha))) * (1 - math.exp(-2 * rho * expected_time(beta,T))) * (1 / expected_time(beta,T)) * lambda_(alpha) * (sigma(alpha)**1)* (\n",
    "                                        q_2_sum2(beta) + (1 / (2 * lambda_(beta))) * (1 - math.exp(-2 * lambda_(beta) * (expected_time(beta,T) - T[beta])))\n",
    "                                )\n",
    "        return q_2\n",
    "\n",
    "    # flagpan\n",
    "    \n",
    "    lambda_array = [lambda_(i) for i in range(0,N_T)]\n",
    "    print(lambda_array)\n",
    "    \n",
    "    rho = 2 * N_0 * r # is rho population or per gen per bp?\n",
    "    expected_times = [expected_time(i,T) for i in range(0,len(T)-1)]\n",
    "    expected_time_check(expected_times,T)\n",
    "    \n",
    "    # initialise q_2, which is whole transition matrix\n",
    "    q_2 = np.zeros(shape=(N_T,N_T))\n",
    "    q_2_upper = np.zeros(shape=(N_T,N_T))\n",
    "    q_2_lower = np.zeros(shape=(N_T,N_T))\n",
    "    \n",
    "    q_2_upper = upper_diag(q_2_upper)\n",
    "    q_2_lower = lower_diag(q_2_lower)\n",
    "    \n",
    "    q_2 = q_2_upper + q_2_lower\n",
    "    \n",
    "\n",
    "    # initialise q_1\n",
    "    # old q_1 = [1 - sum(q_2[i,0:N_T]) for i in range(0,N_T)]\n",
    "    q_1 = [1 - sum(q_2[:,i]) for i in range(0,N_T)]\n",
    "\n",
    "    # eq 30, combine q_1 and q_2\n",
    "    q_ = np.copy(q_2)\n",
    "    for i in range(0,q_.shape[0]):\n",
    "        q_[i,i] = q_1[i]\n",
    "\n",
    "    print('Finished')\n",
    "    \"\"\"\n",
    "    q_2 is full N_T x N_T matrix with empty diagonals\n",
    "    q_2_upper is the upper triangular of q\n",
    "    q_2 is the lower triangular of q\n",
    "    q_1 is 1 x N_T array of diagonals \n",
    "    q_ is full N_T x N_T matrix\n",
    "    \"\"\"\n",
    "    return q_2, q_2_upper, q_2_lower, q_1, q_\n"
   ]
  },
  {
   "cell_type": "code",
   "execution_count": 26,
   "metadata": {},
   "outputs": [
    {
     "name": "stdout",
     "output_type": "stream",
     "text": [
      "[None None]\n",
      "[34 None]\n",
      "[34 27]\n"
     ]
    }
   ],
   "source": [
    "time = np.array([None,None])\n",
    "print(time)\n",
    "time[0]=34\n",
    "print(time)\n",
    "time[1] = 27\n",
    "print(time)"
   ]
  },
  {
   "cell_type": "code",
   "execution_count": 4,
   "metadata": {},
   "outputs": [
    {
     "name": "stdout",
     "output_type": "stream",
     "text": [
      "T_np is [0.         0.03678794 0.04090434 0.04548135 0.0505705  0.05622911\n",
      " 0.06252089 0.06951668 0.07729528 0.08594426 0.09556103 0.10625386\n",
      " 0.11814318 0.13136285 0.14606175 0.16240538 0.18057779 0.20078361\n",
      " 0.22325037 0.24823105 0.27600695 0.30689085 0.34123052 0.37941263\n",
      " 0.42186715 0.46907213 0.52155912 0.57991917 0.64480944 0.71696063\n",
      " 0.79718521 0.88638654 0.98556909 1.0958497  1.21847021 1.35481138\n",
      " 1.5064085  1.67496864 1.86238987 2.07078267 2.30249366 2.56013204\n",
      " 2.84659895 3.16512019 3.51928248 3.91307389 4.35092873 4.83777751\n",
      " 5.3791024  5.98099905 6.65024514]\n",
      "\n",
      "\n",
      "T_scaled_np is [     0.            735.75888234    818.08689348    909.62702774\n",
      "   1011.41007904   1124.58218235   1250.41771984   1390.33367116\n",
      "   1545.90556937   1718.88524244   1911.22053974   2125.07726597\n",
      "   2362.86356935   2627.25705872   2921.23495497   3248.1076162\n",
      "   3611.55581425   4015.67218228   4465.00730015   4964.62093654\n",
      "   5520.13902479   6137.81701413   6824.61030959   7588.2525938\n",
      "   8437.34291267   9381.44250549  10431.18246999  11598.38347445\n",
      "  12896.18886521  14339.21266816  15943.70415104  17727.73079936\n",
      "  19711.38176658  21916.99408938  24369.40421542  27096.22767576\n",
      "  30128.17005154  33499.37273618  37247.79738688  41415.65339448\n",
      "  46049.87318514  51202.64070614  56931.97904675  63302.4038112\n",
      "  70385.649601    78261.47778733  87018.57466937  96755.55013242\n",
      " 107582.04805119 119619.98094217 133004.90276776]\n"
     ]
    }
   ],
   "source": [
    "# scaled_time_intervals \n",
    "\n",
    "mu = 2e-08\n",
    "alpha = 0.1\n",
    "N_0 = 10000 # TODO, use sim\n",
    "Tmax = 20\n",
    "N_T = 50\n",
    "T = [0]\n",
    "for i in range(0,N_T): # TODO: should T have upper interval\n",
    "        T.append( alpha*math.exp( (i/N_T)*math.log(1 + Tmax/alpha) - 1))\n",
    "T_np = np.array(T) # convert to numpy\n",
    "# scale these to generations with *2*N_0, as per Schiffels' instruction\n",
    "T_scaled_np = T_np * 2 * N_0\n",
    "\n",
    "print(f'T_np is {T_np}\\n\\n')\n",
    "print(f'T_scaled_np is {T_scaled_np}')"
   ]
  },
  {
   "cell_type": "code",
   "execution_count": 5,
   "metadata": {},
   "outputs": [],
   "source": [
    "def remove_diagonals(matrix):\n",
    "    # remove diagonals from a matrix and return everything else the same\n",
    "    # matrix should be np array\n",
    "    for i in range(0,len(matrix)):\n",
    "        matrix[i,i] = 0\n",
    "    return matrix\n",
    "\n",
    "def const_pop(seq_length):\n",
    "    N_A = 10000\n",
    "    population_configurations = [\n",
    "        msprime.PopulationConfiguration(\n",
    "            sample_size=2, initial_size=N_A,growth_rate=0)\n",
    "    ]\n",
    "    migration_matrix = [\n",
    "        [0],\n",
    "        ]\n",
    "    demographic_events = [\n",
    "    ]\n",
    "    # Use the demography debugger to print out the demographic history\n",
    "    # that we have just described.\n",
    "    dd = msprime.DemographyDebugger(\n",
    "        population_configurations=population_configurations,\n",
    "        migration_matrix=migration_matrix,\n",
    "        demographic_events=demographic_events)\n",
    "    dd.print_history()\n",
    "    sim = msprime.simulate(population_configurations=population_configurations,\n",
    "                           migration_matrix=migration_matrix,\n",
    "                           demographic_events=demographic_events, length=seq_length, recombination_rate=2e-8,mutation_rate=2e-8)\n",
    "    return sim\n",
    "\n",
    "def psc_pop(seq_length,T_1 = 15000,T_2=26500):\n",
    "    N_A = 10000\n",
    "    population_configurations = [\n",
    "        msprime.PopulationConfiguration(\n",
    "            sample_size=2, initial_size=N_A,growth_rate=0)\n",
    "    ]\n",
    "    migration_matrix = [\n",
    "        [0],\n",
    "        ]\n",
    "    demographic_events = [\n",
    "        msprime.PopulationParametersChange(time=T_1, initial_size=N_A*2,growth_rate=0),\n",
    "        msprime.PopulationParametersChange(time=T_2, initial_size=N_A,growth_rate=0)\n",
    "    ]\n",
    "    # Use the demography debugger to print out the demographic history\n",
    "    # that we have just described.\n",
    "    dd = msprime.DemographyDebugger(\n",
    "        population_configurations=population_configurations,\n",
    "        migration_matrix=migration_matrix,\n",
    "        demographic_events=demographic_events)\n",
    "    dd.print_history()\n",
    "    sim = msprime.simulate(population_configurations=population_configurations,\n",
    "                           migration_matrix=migration_matrix,\n",
    "                           demographic_events=demographic_events, length=seq_length, recombination_rate=2e-8,mutation_rate=2e-8)\n",
    "    return sim\n",
    "\n",
    "def split(N,mig_prop,T_1,T_2,seq_length):\n",
    "    \n",
    "    if not 0 < mig_prop < 1:\n",
    "        print('Error. mig_prop is {} which is not between 0 and 1. Aborting\\n'.format(mig_prop))\n",
    "        sys.exit()\n",
    "    print('N is {}'.format(N))\n",
    "    print('mig_prop is {}'.format(mig_prop))\n",
    "    print('t_1 is {} and t_2 is {}'.format(T_1,T_2))\n",
    "    print('seq_length is {}'.format(seq_length))\n",
    "    \n",
    "    # initially.\n",
    "    population_configurations = [\n",
    "        msprime.PopulationConfiguration(\n",
    "            sample_size=2, initial_size=N, growth_rate=0),\n",
    "        msprime.PopulationConfiguration(\n",
    "            sample_size=0, initial_size=N, growth_rate=0),\n",
    "    ]\n",
    "    demographic_events = [\n",
    "        msprime.MassMigration(time=T_1, source = 0, dest=1,proportion=mig_prop),\n",
    "        msprime.MassMigration(time=T_2, source=1, dest=0, proportion=1)\n",
    "    ]\n",
    "    # Use the demography debugger to print out the demographic history\n",
    "    # that we have just described.\n",
    "    dd = msprime.DemographyDebugger(\n",
    "        population_configurations=population_configurations,\n",
    "        demographic_events=demographic_events)\n",
    "    print('Demographic history:\\n')\n",
    "    dd.print_history()\n",
    "    sim = msprime.simulate(population_configurations=population_configurations,\n",
    "                           demographic_events=demographic_events, length=seq_length, recombination_rate=2e-08,\n",
    "                           mutation_rate=2e-08)\n",
    "    return sim"
   ]
  },
  {
   "cell_type": "code",
   "execution_count": 6,
   "metadata": {},
   "outputs": [],
   "source": [
    "parser = argparse.ArgumentParser()\n",
    "parser.add_argument(\"model\",help=\"Specify the model to be used, as defined in msprime_models.\")\n",
    "parser.add_argument(\"--print\",help=\"Print the DemographicDebugger (from msprime) and the number of segratating sites\",action=\"store_true\")\n",
    "parser.add_argument(\"--tree\",help=\"Draw trees and info per segment\",action=\"store_true\")\n",
    "parser.add_argument(\"-bin\",\"--bin_length\",help=\"The length (in bases) of the how wide you want each bin. (Default is 100)\",default=50,type=int)\n",
    "parser.add_argument(\"-N_T\",\"--Number_of_states\",help=\"The number of states you want, for the time intervals (Default is 50)\",default=50,type=int)\n",
    "args = parser.parse_args(\"m0001\".split())"
   ]
  },
  {
   "cell_type": "markdown",
   "metadata": {},
   "source": [
    "## Panmictic population of changing size"
   ]
  },
  {
   "cell_type": "code",
   "execution_count": 15,
   "metadata": {},
   "outputs": [
    {
     "name": "stdout",
     "output_type": "stream",
     "text": [
      "T_1 and T_2 are [15943.704151042171, 46049.87318513843]\n",
      "Model =  hudson(reference_size=1)\n",
      "==========================================\n",
      "Epoch: 0 -- 15943.704151042171 generations\n",
      "==========================================\n",
      "     start     end      growth_rate |     0    \n",
      "   -------- --------       -------- | -------- \n",
      "0 |  1e+04    1e+04               0 |     0    \n",
      "\n",
      "Events @ generation 15943.704151042171\n",
      "   - Population parameter change for -1: initial_size -> 20000 growth_rate -> 0 \n",
      "==========================================================\n",
      "Epoch: 15943.704151042171 -- 46049.87318513843 generations\n",
      "==========================================================\n",
      "     start     end      growth_rate |     0    \n",
      "   -------- --------       -------- | -------- \n",
      "0 |  2e+04    2e+04               0 |     0    \n",
      "\n",
      "Events @ generation 46049.87318513843\n",
      "   - Population parameter change for -1: initial_size -> 10000 growth_rate -> 0 \n",
      "===========================================\n",
      "Epoch: 46049.87318513843 -- inf generations\n",
      "===========================================\n",
      "     start     end      growth_rate |     0    \n",
      "   -------- --------       -------- | -------- \n",
      "0 |  1e+04    1e+04               0 |     0    \n",
      "\n",
      "simulation finished\n"
     ]
    }
   ],
   "source": [
    "N_0 = 10000\n",
    "T1_ind = 30\n",
    "T2_ind = 40\n",
    "T_1 = T_np[T1_ind]*2*N_0\n",
    "T_2 = T_np[T2_ind]*2*N_0\n",
    "print('T_1 and T_2 are {}'.format([T_1,T_2]))\n",
    "sim1 = psc_pop(150e+06,T_1=T_1,T_2=T_2)\n",
    "print('simulation finished')"
   ]
  },
  {
   "cell_type": "code",
   "execution_count": 17,
   "metadata": {},
   "outputs": [
    {
     "name": "stderr",
     "output_type": "stream",
     "text": [
      "/home/trevor/ancestry/heatmaps_generate.py:27: UserWarning: Matplotlib is currently using module://ipykernel.pylab.backend_inline, which is a non-GUI backend, so cannot show the figure.\n",
      "  fig.show()\n"
     ]
    },
    {
     "data": {
      "image/png": "[encoded data removed]",
      "text/plain": [
       "<Figure size 864x576 with 2 Axes>"
      ]
     },
     "metadata": {
      "needs_background": "light"
     },
     "output_type": "display_data"
    }
   ],
   "source": [
    "tmrca_data1 = get_coal_data(sim1, args) # get true coalescent \n",
    "coal_times_absolute1 = round_bin_coal_data(sim1.sequence_length,tmrca_data1, args) # partition coalescent data into bins  \n",
    "coal_times1 = coal_times_absolute1 #/(2e+04) # divide by 2N_0 to match theory\n",
    "# T_scaled, T, N_0 = scaled_time_intervals(sim,N_T = args.Number_of_states) # get scaled time intervals\n",
    "coal_times_intervals1 = round_coal_times(coal_times1,T_np*2*N_0,N_T=args.Number_of_states) # round binned coalescent times into their respected interval\n",
    "tm1 = tm_counts(coal_times_intervals1,N_T=args.Number_of_states) # generate a matrix of counts, where each element counts the number of times state j transitions to state i for matrix [i,j]\n",
    "\n",
    "# remove diagonals. let nd stand for 'nodiagonals'\n",
    "tm_nd1 = np.copy(tm1)\n",
    "tm_nd1[range(0,len(tm1)),range(0,len(tm1))] = 0\n",
    "tm_nd_norm1 = normalise(tm_nd1,'colsum') # normalise over max of each columnn (return a probability distribution over columns)\n",
    "\n",
    "heatmaps_seq(normalise(tm_nd1,'colmax'),title='Normalised true TM') # show heatmap\n"
   ]
  },
  {
   "cell_type": "markdown",
   "metadata": {},
   "source": [
    "Does panmictic theory fit the data?"
   ]
  },
  {
   "cell_type": "code",
   "execution_count": 80,
   "metadata": {},
   "outputs": [
    {
     "name": "stdout",
     "output_type": "stream",
     "text": [
      "pop_size1 is [10000 10000 10000 10000 10000 10000 10000 10000 10000 10000 10000 10000\n",
      " 10000 10000 10000 10000 10000 10000 10000 10000 10000 10000 10000 10000\n",
      " 10000 10000 10000 10000 10000 10000 20000 20000 20000 20000 20000 20000\n",
      " 20000 20000 20000 20000 10000 10000 10000 10000 10000 10000 10000 10000\n",
      " 10000 10000]\n"
     ]
    }
   ],
   "source": [
    "pop_size1 = [1*10000 for i in range(0,N_T)]\n",
    "pop_size1 = np.array(pop_size1)\n",
    "pop_size1[T1_ind:T2_ind] = 20000\n",
    "print('pop_size1 is {}'.format(pop_size1))"
   ]
  },
  {
   "cell_type": "code",
   "execution_count": 24,
   "metadata": {},
   "outputs": [
    {
     "name": "stdout",
     "output_type": "stream",
     "text": [
      "pop_size is [10000 10000 10000 10000 10000 10000 10000 10000 10000 10000 10000 10000\n",
      " 10000 10000 10000 10000 10000 10000 10000 10000 10000 10000 10000 10000\n",
      " 10000 10000 10000 10000 10000 10000 20000 20000 20000 20000 20000 20000\n",
      " 20000 20000 20000 20000 10000 10000 10000 10000 10000 10000 10000 10000\n",
      " 10000 10000]\n",
      "[1.0, 1.0, 1.0, 1.0, 1.0, 1.0, 1.0, 1.0, 1.0, 1.0, 1.0, 1.0, 1.0, 1.0, 1.0, 1.0, 1.0, 1.0, 1.0, 1.0, 1.0, 1.0, 1.0, 1.0, 1.0, 1.0, 1.0, 1.0, 1.0, 1.0, 0.5, 0.5, 0.5, 0.5, 0.5, 0.5, 0.5, 0.5, 0.5, 0.5, 1.0, 1.0, 1.0, 1.0, 1.0, 1.0, 1.0, 1.0, 1.0, 1.0]\n",
      "expected_times conforms with T.\n",
      "Finished\n"
     ]
    }
   ],
   "source": [
    "q_2_A, q_2_upper_A, q_2_lower_A, q_1_A, q_A = corrected_abinitio(T_np,50,pop_size1,N_0,r=2e-08*args.bin_length)\n",
    "# heatmaps_seq(normalise(q_2_A,'colmax'),title='theoretical TM, constant pop size') # normalise this matrix and then plot heatmap\n"
   ]
  },
  {
   "cell_type": "code",
   "execution_count": 25,
   "metadata": {},
   "outputs": [
    {
     "name": "stderr",
     "output_type": "stream",
     "text": [
      "/home/trevor/ancestry/heatmaps_generate.py:46: UserWarning: Matplotlib is currently using module://ipykernel.pylab.backend_inline, which is a non-GUI backend, so cannot show the figure.\n",
      "  fig.show()\n"
     ]
    },
    {
     "data": {
      "image/png": "[encoded data removed]",
      "text/plain": [
       "<Figure size 864x576 with 2 Axes>"
      ]
     },
     "metadata": {
      "needs_background": "light"
     },
     "output_type": "display_data"
    },
    {
     "data": {
      "image/png": "[encoded data removed]",
      "text/plain": [
       "<Figure size 864x576 with 2 Axes>"
      ]
     },
     "metadata": {
      "needs_background": "light"
     },
     "output_type": "display_data"
    }
   ],
   "source": [
    "tm_1 = normalise(tm1,'colsum')\n",
    "diff_1A = q_A - tm_1\n",
    "diff_1A_nd = np.copy(diff_1A)\n",
    "diff_1A_nd = remove_diagonals(diff_1A_nd)\n",
    "\n",
    "heatmaps_div(diff_1A,title=\"Difference between theoretical TM and observed TM, with diagonals\")\n",
    "heatmaps_div(diff_1A_nd,title=\"Difference between theoretical TM and observed TM, no diagonals\")\n"
   ]
  },
  {
   "cell_type": "markdown",
   "metadata": {},
   "source": [
    "Looks quite good - nothing systemtically wrong. "
   ]
  },
  {
   "cell_type": "markdown",
   "metadata": {},
   "source": [
    "Now check with structuredsplit_abinitio()"
   ]
  },
  {
   "cell_type": "code",
   "execution_count": 81,
   "metadata": {},
   "outputs": [
    {
     "name": "stdout",
     "output_type": "stream",
     "text": [
      "gamma_array is [1. 1. 1. 1. 1. 1. 1. 1. 1. 1. 1. 1. 1. 1. 1. 1. 1. 1. 1. 1. 1. 1. 1. 1.\n",
      " 1. 1. 1. 1. 1. 1. 1. 1. 1. 1. 1. 1. 1. 1. 1. 1. 1. 1. 1. 1. 1. 1. 1. 1.\n",
      " 1. 1.]\n"
     ]
    }
   ],
   "source": [
    "gamma_array = np.array([1 for i in range(0,N_T)],np.float)\n",
    "print('gamma_array is {}'.format(gamma_array))"
   ]
  },
  {
   "cell_type": "code",
   "execution_count": 85,
   "metadata": {},
   "outputs": [
    {
     "name": "stdout",
     "output_type": "stream",
     "text": [
      "pop_size is [10000 10000 10000 10000 10000 10000 10000 10000 10000 10000 10000 10000\n",
      " 10000 10000 10000 10000 10000 10000 10000 10000 10000 10000 10000 10000\n",
      " 10000 10000 10000 10000 10000 10000 20000 20000 20000 20000 20000 20000\n",
      " 20000 20000 20000 20000 10000 10000 10000 10000 10000 10000 10000 10000\n",
      " 10000 10000]\n",
      "[1.0, 1.0, 1.0, 1.0, 1.0, 1.0, 1.0, 1.0, 1.0, 1.0, 1.0, 1.0, 1.0, 1.0, 1.0, 1.0, 1.0, 1.0, 1.0, 1.0, 1.0, 1.0, 1.0, 1.0, 1.0, 1.0, 1.0, 1.0, 1.0, 1.0, 0.5, 0.5, 0.5, 0.5, 0.5, 0.5, 0.5, 0.5, 0.5, 0.5, 1.0, 1.0, 1.0, 1.0, 1.0, 1.0, 1.0, 1.0, 1.0, 1.0]\n",
      "expected_times conforms with T.\n",
      "Finished\n"
     ]
    }
   ],
   "source": [
    "q_2_B, q_2_upper_B, q_2_lower_B, q_1_B, q_B = structuredsplit_abinitio(T_np,50,pop_size1,gamma_array,N_0,r=2e-08*args.bin_length)\n",
    "# heatmaps_seq(normalise(q_2_A,'colmax'),title='theoretical TM, constant pop size') # normalise this matrix and then plot heatmap\n"
   ]
  },
  {
   "cell_type": "code",
   "execution_count": 86,
   "metadata": {},
   "outputs": [
    {
     "name": "stderr",
     "output_type": "stream",
     "text": [
      "/home/trevor/ancestry/heatmaps_generate.py:46: UserWarning: Matplotlib is currently using module://ipykernel.pylab.backend_inline, which is a non-GUI backend, so cannot show the figure.\n",
      "  fig.show()\n"
     ]
    },
    {
     "data": {
      "image/png": "[encoded data removed]",
      "text/plain": [
       "<Figure size 864x576 with 2 Axes>"
      ]
     },
     "metadata": {
      "needs_background": "light"
     },
     "output_type": "display_data"
    },
    {
     "data": {
      "image/png": "[encoded data removed]",
      "text/plain": [
       "<Figure size 864x576 with 2 Axes>"
      ]
     },
     "metadata": {
      "needs_background": "light"
     },
     "output_type": "display_data"
    }
   ],
   "source": [
    "tm_1 = normalise(tm1,'colsum')\n",
    "diff_1B = q_B - tm_1\n",
    "diff_1B_nd = np.copy(diff_1B)\n",
    "diff_1B_nd = remove_diagonals(diff_1B_nd)\n",
    "\n",
    "heatmaps_div(diff_1B,title=\"Difference between theoretical TM and observed TM, with diagonals\")\n",
    "heatmaps_div(diff_1B_nd,title=\"Difference between theoretical TM and observed TM, no diagonals\")\n"
   ]
  },
  {
   "cell_type": "markdown",
   "metadata": {},
   "source": [
    "Looks ok to me - this is using structuredsplit_abinitio (with no structure) to match panmictic population size change. "
   ]
  },
  {
   "cell_type": "markdown",
   "metadata": {},
   "source": [
    "# Split population (structure) of constant size"
   ]
  },
  {
   "cell_type": "code",
   "execution_count": 52,
   "metadata": {},
   "outputs": [
    {
     "name": "stdout",
     "output_type": "stream",
     "text": [
      "T_1 and T_2 are [15943.704151042171, 46049.87318513843]\n",
      "gamma is 0.2\n",
      "N is 10000\n",
      "mig_prop is 0.2\n",
      "t_1 is 15943.704151042171 and t_2 is 46049.87318513843\n",
      "seq_length is 150000000.0\n",
      "Demographic history:\n",
      "\n",
      "Model =  hudson(reference_size=1)\n",
      "==========================================\n",
      "Epoch: 0 -- 15943.704151042171 generations\n",
      "==========================================\n",
      "     start     end      growth_rate |     0        1    \n",
      "   -------- --------       -------- | -------- -------- \n",
      "0 |  1e+04    1e+04               0 |     0        0    \n",
      "1 |  1e+04    1e+04               0 |     0        0    \n",
      "\n",
      "Events @ generation 15943.704151042171\n",
      "   - Mass migration: Lineages moved with probability 0.2 backwards in time with source 0 & dest 1\n",
      "                     (equivalent to migration from 1 to 0 forwards in time)\n",
      "==========================================================\n",
      "Epoch: 15943.704151042171 -- 46049.87318513843 generations\n",
      "==========================================================\n",
      "     start     end      growth_rate |     0        1    \n",
      "   -------- --------       -------- | -------- -------- \n",
      "0 |  1e+04    1e+04               0 |     0        0    \n",
      "1 |  1e+04    1e+04               0 |     0        0    \n",
      "\n",
      "Events @ generation 46049.87318513843\n",
      "   - Mass migration: Lineages moved with probability 1 backwards in time with source 1 & dest 0\n",
      "                     (equivalent to migration from 0 to 1 forwards in time)\n",
      "===========================================\n",
      "Epoch: 46049.87318513843 -- inf generations\n",
      "===========================================\n",
      "     start     end      growth_rate |     0        1    \n",
      "   -------- --------       -------- | -------- -------- \n",
      "0 |  1e+04    1e+04               0 |     0        0    \n",
      "1 |  1e+04    1e+04               0 |     0        0    \n",
      "\n"
     ]
    }
   ],
   "source": [
    "N_0 = 10000\n",
    "T1_ind = 30\n",
    "T2_ind = 40\n",
    "T_1 = T_np[T1_ind]*2*N_0\n",
    "T_2 = T_np[T2_ind]*2*N_0\n",
    "gamma = 0.2\n",
    "seq_length=150e+06\n",
    "print('T_1 and T_2 are {}'.format([T_1,T_2]))\n",
    "print('gamma is {}'.format(gamma))\n",
    "sim2 = split(N_0,gamma,T_1,T_2,seq_length)"
   ]
  },
  {
   "cell_type": "code",
   "execution_count": 53,
   "metadata": {},
   "outputs": [
    {
     "name": "stderr",
     "output_type": "stream",
     "text": [
      "/home/trevor/ancestry/heatmaps_generate.py:27: UserWarning: Matplotlib is currently using module://ipykernel.pylab.backend_inline, which is a non-GUI backend, so cannot show the figure.\n",
      "  fig.show()\n"
     ]
    },
    {
     "data": {
      "image/png": "[encoded data removed]",
      "text/plain": [
       "<Figure size 864x576 with 2 Axes>"
      ]
     },
     "metadata": {
      "needs_background": "light"
     },
     "output_type": "display_data"
    }
   ],
   "source": [
    "tmrca_data2 = get_coal_data(sim2, args) # get true coalescent \n",
    "coal_times_absolute2 = round_bin_coal_data(sim2.sequence_length,tmrca_data2, args) # partition coalescent data into bins  \n",
    "coal_times2 = coal_times_absolute2 #/(2e+04) # divide by 2N_0 to match theory\n",
    "# T_scaled, T, N_0 = scaled_time_intervals(sim,N_T = args.Number_of_states) # get scaled time intervals\n",
    "coal_times_intervals2 = round_coal_times(coal_times2,T_np*2*N_0,N_T=args.Number_of_states) # round binned coalescent times into their respected interval\n",
    "tm2 = tm_counts(coal_times_intervals2,N_T=args.Number_of_states) # generate a matrix of counts, where each element counts the number of times state j transitions to state i for matrix [i,j]\n",
    "\n",
    "# remove diagonals. let nd stand for 'nodiagonals'\n",
    "tm_nd2 = np.copy(tm2)\n",
    "tm_nd2[range(0,len(tm2)),range(0,len(tm2))] = 0\n",
    "tm_nd_norm2 = normalise(tm_nd2,'colsum') # normalise over max of each columnn (return a probability distribution over columns)\n",
    "\n",
    "heatmaps_seq(normalise(tm_nd2,'colmax'),title='Normalised true TM') # show heatmap\n"
   ]
  },
  {
   "cell_type": "code",
   "execution_count": 92,
   "metadata": {},
   "outputs": [
    {
     "name": "stdout",
     "output_type": "stream",
     "text": [
      "pop_size2 is [10000, 10000, 10000, 10000, 10000, 10000, 10000, 10000, 10000, 10000, 10000, 10000, 10000, 10000, 10000, 10000, 10000, 10000, 10000, 10000, 10000, 10000, 10000, 10000, 10000, 10000, 10000, 10000, 10000, 10000, 10000, 10000, 10000, 10000, 10000, 10000, 10000, 10000, 10000, 10000, 10000, 10000, 10000, 10000, 10000, 10000, 10000, 10000, 10000, 10000]\n",
      "gamma_array2 is [1.  1.  1.  1.  1.  1.  1.  1.  1.  1.  1.  1.  1.  1.  1.  1.  1.  1.\n",
      " 1.  1.  1.  1.  1.  1.  1.  1.  1.  1.  1.  1.  0.2 0.2 0.2 0.2 0.2 0.2\n",
      " 0.2 0.2 0.2 0.2 1.  1.  1.  1.  1.  1.  1.  1.  1.  1. ]\n"
     ]
    }
   ],
   "source": [
    "pop_size2 = [1*10000 for i in range(0,N_T)]\n",
    "# pop_size1 = np.array(pop_size1)\n",
    "# pop_size1[T1_ind:T2_ind] = 20000\n",
    "print('pop_size2 is {}'.format(pop_size2))\n",
    "\n",
    "gamma_array2 = np.array([1 for i in range(0,N_T)],np.float)\n",
    "gamma_array2[T1_ind:T2_ind] = 0.2\n",
    "\n",
    "print('gamma_array2 is {}'.format(gamma_array2))\n"
   ]
  },
  {
   "cell_type": "code",
   "execution_count": 130,
   "metadata": {},
   "outputs": [
    {
     "name": "stdout",
     "output_type": "stream",
     "text": [
      "pop_size is [10000, 10000, 10000, 10000, 10000, 10000, 10000, 10000, 10000, 10000, 10000, 10000, 10000, 10000, 10000, 10000, 10000, 10000, 10000, 10000, 10000, 10000, 10000, 10000, 10000, 10000, 10000, 10000, 10000, 10000, 10000, 10000, 10000, 10000, 10000, 10000, 10000, 10000, 10000, 10000, 10000, 10000, 10000, 10000, 10000, 10000, 10000, 10000, 10000, 10000]\n",
      "[1.0, 1.0, 1.0, 1.0, 1.0, 1.0, 1.0, 1.0, 1.0, 1.0, 1.0, 1.0, 1.0, 1.0, 1.0, 1.0, 1.0, 1.0, 1.0, 1.0, 1.0, 1.0, 1.0, 1.0, 1.0, 1.0, 1.0, 1.0, 1.0, 1.0, 1.0, 1.0, 1.0, 1.0, 1.0, 1.0, 1.0, 1.0, 1.0, 1.0, 1.0, 1.0, 1.0, 1.0, 1.0, 1.0, 1.0, 1.0, 1.0, 1.0]\n",
      "expected_times conforms with T.\n",
      "Finished\n"
     ]
    },
    {
     "name": "stderr",
     "output_type": "stream",
     "text": [
      "/home/trevor/ancestry/heatmaps_generate.py:27: UserWarning: Matplotlib is currently using module://ipykernel.pylab.backend_inline, which is a non-GUI backend, so cannot show the figure.\n",
      "  fig.show()\n"
     ]
    },
    {
     "data": {
      "image/png": "[encoded data removed]",
      "text/plain": [
       "<Figure size 864x576 with 2 Axes>"
      ]
     },
     "metadata": {
      "needs_background": "light"
     },
     "output_type": "display_data"
    }
   ],
   "source": [
    "q_2_B, q_2_upper_B, q_2_lower_B, q_1_B, q_B = structuredsplit_abinitio(T_np,50,pop_size2,gamma_array2,N_0,r=2e-08*args.bin_length)\n",
    "heatmaps_seq(normalise(q_2_B,'colmax'),title='theoretical TM, constant pop size') # normalise this matrix and then plot heatmap\n"
   ]
  },
  {
   "cell_type": "code",
   "execution_count": 131,
   "metadata": {},
   "outputs": [
    {
     "name": "stderr",
     "output_type": "stream",
     "text": [
      "/home/trevor/ancestry/heatmaps_generate.py:46: UserWarning: Matplotlib is currently using module://ipykernel.pylab.backend_inline, which is a non-GUI backend, so cannot show the figure.\n",
      "  fig.show()\n"
     ]
    },
    {
     "name": "stdout",
     "output_type": "stream",
     "text": [
      "total absolute differences in these matrics is 0.5166922976786162\n"
     ]
    },
    {
     "data": {
      "image/png": "[encoded data removed]",
      "text/plain": [
       "<Figure size 864x576 with 2 Axes>"
      ]
     },
     "metadata": {
      "needs_background": "light"
     },
     "output_type": "display_data"
    },
    {
     "data": {
      "image/png": "[encoded data removed]",
      "text/plain": [
       "<Figure size 864x576 with 2 Axes>"
      ]
     },
     "metadata": {
      "needs_background": "light"
     },
     "output_type": "display_data"
    }
   ],
   "source": [
    "tm_2 = normalise(tm2,'colsum')\n",
    "diff_2B = q_B - tm_2\n",
    "diff_2B_nd = np.copy(diff_2B)\n",
    "diff_2B_nd = remove_diagonals(diff_2B_nd)\n",
    "\n",
    "heatmaps_div(diff_2B,title=\"Difference between theoretical TM and observed TM, with diagonals\")\n",
    "heatmaps_div(diff_2B_nd,title=\"Difference between theoretical TM and observed TM, no diagonals\")\n",
    "\n",
    "print('total absolute differences in these matrics is {}'.format(sum(abs(diff_2B)).sum()))\n"
   ]
  },
  {
   "cell_type": "code",
   "execution_count": 106,
   "metadata": {},
   "outputs": [
    {
     "data": {
      "text/plain": [
       "0.6544762960800211"
      ]
     },
     "execution_count": 106,
     "metadata": {},
     "output_type": "execute_result"
    }
   ],
   "source": [
    "sum(abs(diff_2B)).sum()"
   ]
  },
  {
   "cell_type": "code",
   "execution_count": null,
   "metadata": {},
   "outputs": [],
   "source": []
  },
  {
   "cell_type": "markdown",
   "metadata": {},
   "source": [
    "# Split population (structure) of constant size try 2"
   ]
  },
  {
   "cell_type": "code",
   "execution_count": 7,
   "metadata": {},
   "outputs": [
    {
     "name": "stdout",
     "output_type": "stream",
     "text": [
      "T_1 and T_2 are [5520.1390247909985, 33499.37273617648]\n",
      "gamma is 0.3\n",
      "N is 10000\n",
      "mig_prop is 0.3\n",
      "t_1 is 5520.1390247909985 and t_2 is 33499.37273617648\n",
      "seq_length is 150000000.0\n",
      "Demographic history:\n",
      "\n",
      "Model =  hudson(reference_size=1)\n",
      "==========================================\n",
      "Epoch: 0 -- 5520.1390247909985 generations\n",
      "==========================================\n",
      "     start     end      growth_rate |     0        1    \n",
      "   -------- --------       -------- | -------- -------- \n",
      "0 |  1e+04    1e+04               0 |     0        0    \n",
      "1 |  1e+04    1e+04               0 |     0        0    \n",
      "\n",
      "Events @ generation 5520.1390247909985\n",
      "   - Mass migration: Lineages moved with probability 0.3 backwards in time with source 0 & dest 1\n",
      "                     (equivalent to migration from 1 to 0 forwards in time)\n",
      "==========================================================\n",
      "Epoch: 5520.1390247909985 -- 33499.37273617648 generations\n",
      "==========================================================\n",
      "     start     end      growth_rate |     0        1    \n",
      "   -------- --------       -------- | -------- -------- \n",
      "0 |  1e+04    1e+04               0 |     0        0    \n",
      "1 |  1e+04    1e+04               0 |     0        0    \n",
      "\n",
      "Events @ generation 33499.37273617648\n",
      "   - Mass migration: Lineages moved with probability 1 backwards in time with source 1 & dest 0\n",
      "                     (equivalent to migration from 0 to 1 forwards in time)\n",
      "===========================================\n",
      "Epoch: 33499.37273617648 -- inf generations\n",
      "===========================================\n",
      "     start     end      growth_rate |     0        1    \n",
      "   -------- --------       -------- | -------- -------- \n",
      "0 |  1e+04    1e+04               0 |     0        0    \n",
      "1 |  1e+04    1e+04               0 |     0        0    \n",
      "\n"
     ]
    }
   ],
   "source": [
    "N_0 = 10000\n",
    "T1_ind = 20\n",
    "T2_ind = 37\n",
    "T_1 = T_np[T1_ind]*2*N_0\n",
    "T_2 = T_np[T2_ind]*2*N_0\n",
    "gamma = 0.3\n",
    "seq_length=150e+06\n",
    "print('T_1 and T_2 are {}'.format([T_1,T_2]))\n",
    "print('gamma is {}'.format(gamma))\n",
    "sim2b = split(N_0,gamma,T_1,T_2,seq_length)"
   ]
  },
  {
   "cell_type": "code",
   "execution_count": 10,
   "metadata": {},
   "outputs": [
    {
     "name": "stderr",
     "output_type": "stream",
     "text": [
      "/home/trevor/ancestry/heatmaps_generate.py:27: UserWarning: Matplotlib is currently using module://ipykernel.pylab.backend_inline, which is a non-GUI backend, so cannot show the figure.\n",
      "  fig.show()\n"
     ]
    },
    {
     "data": {
      "image/png": "[encoded data removed]",
      "text/plain": [
       "<Figure size 864x576 with 2 Axes>"
      ]
     },
     "metadata": {
      "needs_background": "light"
     },
     "output_type": "display_data"
    }
   ],
   "source": [
    "tmrca_data2b = get_coal_data(sim2b, args) # get true coalescent \n",
    "coal_times_absolute2b = round_bin_coal_data(sim2b.sequence_length,tmrca_data2b, args) # partition coalescent data into bins  \n",
    "coal_times2b = coal_times_absolute2b #/(2be+04) # divide by 2bN_0 to match theory\n",
    "# T_scaled, T, N_0 = scaled_time_intervals(sim,N_T = args.Number_of_states) # get scaled time intervals\n",
    "coal_times_intervals2b = round_coal_times(coal_times2b,T_np*2*N_0,N_T=args.Number_of_states) # round binned coalescent times into their respected interval\n",
    "tm2b = tm_counts(coal_times_intervals2b,N_T=args.Number_of_states) # generate a matrix of counts, where each element counts the number of times state j transitions to state i for matrix [i,j]\n",
    "\n",
    "# remove diagonals. let nd stand for 'nodiagonals'\n",
    "tm_nd2b = np.copy(tm2b)\n",
    "tm_nd2b[range(0,len(tm2b)),range(0,len(tm2b))] = 0\n",
    "tm_nd_norm2b = normalise(tm_nd2b,'colsum') # normalise over max of each columnn (return a probability distribution over columns)\n",
    "\n",
    "heatmaps_seq(normalise(tm_nd2b,'colmax'),title='Normalised true TM') # show heatmap\n"
   ]
  },
  {
   "cell_type": "code",
   "execution_count": 12,
   "metadata": {},
   "outputs": [
    {
     "name": "stdout",
     "output_type": "stream",
     "text": [
      "pop_size2 is [10000, 10000, 10000, 10000, 10000, 10000, 10000, 10000, 10000, 10000, 10000, 10000, 10000, 10000, 10000, 10000, 10000, 10000, 10000, 10000, 10000, 10000, 10000, 10000, 10000, 10000, 10000, 10000, 10000, 10000, 10000, 10000, 10000, 10000, 10000, 10000, 10000, 10000, 10000, 10000, 10000, 10000, 10000, 10000, 10000, 10000, 10000, 10000, 10000, 10000]\n",
      "gamma_array2 is [1.  1.  1.  1.  1.  1.  1.  1.  1.  1.  1.  1.  1.  1.  1.  1.  1.  1.\n",
      " 1.  1.  0.3 0.3 0.3 0.3 0.3 0.3 0.3 0.3 0.3 0.3 0.3 0.3 0.3 0.3 0.3 0.3\n",
      " 0.3 1.  1.  1.  1.  1.  1.  1.  1.  1.  1.  1.  1.  1. ]\n"
     ]
    }
   ],
   "source": [
    "pop_size2 = [1*10000 for i in range(0,N_T)]\n",
    "# pop_size1 = np.array(pop_size1)\n",
    "# pop_size1[T1_ind:T2_ind] = 20000\n",
    "print('pop_size2 is {}'.format(pop_size2))\n",
    "\n",
    "gamma_array2 = np.array([1 for i in range(0,N_T)],np.float)\n",
    "gamma_array2[T1_ind:T2_ind] = 0.3\n",
    "\n",
    "print('gamma_array2 is {}'.format(gamma_array2))\n"
   ]
  },
  {
   "cell_type": "code",
   "execution_count": 73,
   "metadata": {},
   "outputs": [],
   "source": [
    "# flagqqq"
   ]
  },
  {
   "cell_type": "code",
   "execution_count": 105,
   "metadata": {},
   "outputs": [
    {
     "name": "stdout",
     "output_type": "stream",
     "text": [
      "pop_size is [10000, 10000, 10000, 10000, 10000, 10000, 10000, 10000, 10000, 10000, 10000, 10000, 10000, 10000, 10000, 10000, 10000, 10000, 10000, 10000, 10000, 10000, 10000, 10000, 10000, 10000, 10000, 10000, 10000, 10000, 10000, 10000, 10000, 10000, 10000, 10000, 10000, 10000, 10000, 10000, 10000, 10000, 10000, 10000, 10000, 10000, 10000, 10000, 10000, 10000]\n",
      "[1.0, 1.0, 1.0, 1.0, 1.0, 1.0, 1.0, 1.0, 1.0, 1.0, 1.0, 1.0, 1.0, 1.0, 1.0, 1.0, 1.0, 1.0, 1.0, 1.0, 1.0, 1.0, 1.0, 1.0, 1.0, 1.0, 1.0, 1.0, 1.0, 1.0, 1.0, 1.0, 1.0, 1.0, 1.0, 1.0, 1.0, 1.0, 1.0, 1.0, 1.0, 1.0, 1.0, 1.0, 1.0, 1.0, 1.0, 1.0, 1.0, 1.0]\n",
      "expected_times conforms with T.\n",
      "Finished\n"
     ]
    },
    {
     "name": "stderr",
     "output_type": "stream",
     "text": [
      "/home/trevor/ancestry/heatmaps_generate.py:27: UserWarning: Matplotlib is currently using module://ipykernel.pylab.backend_inline, which is a non-GUI backend, so cannot show the figure.\n",
      "  fig.show()\n"
     ]
    },
    {
     "data": {
      "image/png": "[encoded data removed]",
      "text/plain": [
       "<Figure size 864x576 with 2 Axes>"
      ]
     },
     "metadata": {
      "needs_background": "light"
     },
     "output_type": "display_data"
    }
   ],
   "source": [
    "q_2_Bb, q_2_upper_Bb, q_2_lower_Bb, q_1_Bb, q_Bb = structuredsplit_abinitio(T_np,50,pop_size2,gamma_array2,N_0,r=2e-08*args.bin_length)\n",
    "heatmaps_seq(normalise(q_2_Bb,'colmax'),title='theoretical TM, constant pop size') # normalise this matrix and then plot heatmap\n"
   ]
  },
  {
   "cell_type": "code",
   "execution_count": 106,
   "metadata": {},
   "outputs": [
    {
     "name": "stdout",
     "output_type": "stream",
     "text": [
      "total absolute differences in these matrics is 0.5296245553143473\n"
     ]
    },
    {
     "name": "stderr",
     "output_type": "stream",
     "text": [
      "/home/trevor/ancestry/heatmaps_generate.py:46: UserWarning: Matplotlib is currently using module://ipykernel.pylab.backend_inline, which is a non-GUI backend, so cannot show the figure.\n",
      "  fig.show()\n"
     ]
    },
    {
     "data": {
      "image/png": "[encoded data removed]",
      "text/plain": [
       "<Figure size 864x576 with 2 Axes>"
      ]
     },
     "metadata": {
      "needs_background": "light"
     },
     "output_type": "display_data"
    }
   ],
   "source": [
    "tm_2b = normalise(tm2b,'colsum')\n",
    "diff_2Bb = q_Bb - tm_2b # theory minus observations\n",
    "diff_2Bb_nd = np.copy(diff_2Bb)\n",
    "diff_2Bb_nd = remove_diagonals(diff_2Bb_nd)\n",
    "\n",
    "# heatmaps_div(diff_2Bb,title=\"Difference between theoretical TM and observed TM, with diagonals\")\n",
    "heatmaps_div(diff_2Bb_nd,title=\"Difference between theoretical TM and observed TM, no diagonals\")\n",
    "# heatmaps_div_patch(diff_2Bb_nd,title=\"Difference between (new) theoretical TM and observed TM, with diagonals\",patch=[20,17])\n",
    "\n",
    "print('total absolute differences in these matrics is {}'.format(sum(abs(diff_2Bb)).sum()))\n"
   ]
  },
  {
   "cell_type": "code",
   "execution_count": 83,
   "metadata": {},
   "outputs": [
    {
     "name": "stdout",
     "output_type": "stream",
     "text": [
      "psi_s and psi_e are [20, 36]\n"
     ]
    }
   ],
   "source": [
    "psi_s, psi_e = psis_finder(gamma_array2)\n",
    "print('psi_s and psi_e are {}'.format([psi_s,psi_e]))"
   ]
  },
  {
   "cell_type": "code",
   "execution_count": 89,
   "metadata": {},
   "outputs": [
    {
     "name": "stdout",
     "output_type": "stream",
     "text": [
      "[[0. 0. 0. 0.]\n",
      " [0. 0. 0. 2.]\n",
      " [1. 0. 0. 0.]\n",
      " [0. 0. 0. 0.]]\n"
     ]
    }
   ],
   "source": [
    "matrix = np.zeros(shape=(4,4))\n",
    "matrix[2,0] = 1\n",
    "matrix[1,3] = 2\n",
    "print(matrix)"
   ]
  },
  {
   "cell_type": "code",
   "execution_count": 443,
   "metadata": {},
   "outputs": [],
   "source": [
    "# for some matrix of size [NxN], N[i,j] means i'th row and j'th column"
   ]
  },
  {
   "cell_type": "markdown",
   "metadata": {},
   "source": [
    "### Try a different approach"
   ]
  },
  {
   "cell_type": "code",
   "execution_count": 588,
   "metadata": {},
   "outputs": [],
   "source": [
    "def structuredsplit_abinitio_new(T,N_T,pop_size,gamma_array,N_0,mu=2e-08,r=2e-08):\n",
    "    # written 210215ymd\n",
    "    \"\"\"\n",
    "    inputs:\n",
    "    pop_size in absolute diploid...these will be scaled\n",
    "    T: time_array in coalescent time (gens/(2*N))\n",
    "    N_T: number of states\n",
    "    \"\"\"\n",
    "    print(f'pop_size is {pop_size}')\n",
    "    def lambda_(int):\n",
    "        lambd= N_0/(pop_size[int])\n",
    "        return lambd\n",
    "    def sigma(int):\n",
    "        sig = (1-gamma_array[int])**2 + (gamma_array[int])**2\n",
    "        return sig\n",
    "    def psis_finder(gamma_array):\n",
    "        # find the first change in gamma (psi_s) and last change in gamma (psi_e)\n",
    "        # for now, assume there is only one period of structure\n",
    "        try:\n",
    "            psi_s = np.where(gamma_array!=1)[0][0]\n",
    "            psi_e = np.where(gamma_array!=1)[0][-1]\n",
    "        except:\n",
    "            psi_e = None\n",
    "            psi_s = None\n",
    "#             print('Psi is None')\n",
    "        return psi_s, psi_e\n",
    "    \n",
    "    def lower_higher_intervals(t1,t2):\n",
    "        # get the index of the next lower or equal time intervals for t1 and t2\n",
    "        ind1 = np.argmin(abs(T - t1)) # ind1 is index of lower time interval for time1\n",
    "        if T[ind1] > t1:\n",
    "            ind1 = ind1 - 1\n",
    "#         print('ind1 is {}; T[ind1] is {}; t1 is {}'.format(ind1,T[ind1],t1))\n",
    "        ind2 = np.argmin(abs(T - t2)) # ind2 is index of lower time interval for time2\n",
    "        if T[ind2] > t2:\n",
    "            ind2 = ind2 - 1\n",
    "        if ind2 == N_T:\n",
    "            # if ind2 is the last time interval, remove 1 otherwise will crash\n",
    "            ind2 = ind2-1\n",
    "#         print('ind2 is {}; T[ind2] is {} and t2 is {}'.format(ind2,T[ind2],t2))\n",
    "        return ind1, ind2\n",
    "\n",
    "    def L(time1,time2):\n",
    "        ind1, ind2 = lower_higher_intervals(time1,time2)\n",
    "        if ind1 == ind2:\n",
    "            L = math.exp(-(time2 - time1)*lambda_(ind1))\n",
    "        else:\n",
    "            sum = 0\n",
    "            for i in range(ind1+1,ind2):\n",
    "                sum = sum + lambda_(i)*delta(i,T)\n",
    "            L = math.exp(-(T[ind1+1] - time1)*lambda_(ind1) - sum - (time2 - T[ind2])*lambda_(ind2))\n",
    "        return L\n",
    "\n",
    "    # flaggg\n",
    "    \n",
    "    def G(time1,time2):\n",
    "        psi_s, psi_e = psis_finder(gamma_array)\n",
    "        ind1, ind2 = lower_higher_intervals(time1,time2)\n",
    "        if psi_s is None:\n",
    "            G = L(time1,time2)\n",
    "        elif psi_s:\n",
    "            G = L(time1,time2)\n",
    "        return G\n",
    "    \n",
    "    def G_post(time1,time2):\n",
    "        # for when upper interval is higher than last structure occurence\n",
    "        psi_s, psi_e = psis_finder(gamma_array)\n",
    "        if time2<T[psi_e+1]:\n",
    "            print('misunderstanding!')\n",
    "\n",
    "        ind1, ind2 = lower_higher_intervals(time1,time2)\n",
    "        sig = sigma(psi_s)\n",
    "#         print('sig from G_post is {}'.format(sig))\n",
    "        GUESS = -3\n",
    "        G_upper = L(0,T[psi_s])*(1-sig+sig*L(T[psi_s],T[psi_e+GUESS]))*(L(T[psi_e+GUESS],time2))\n",
    "        \"\"\"\n",
    "        upper interval is definitely bigger than psi_e\n",
    "        for lower interval, could either be <psi_s, or between psi_s and psi_e, or bigger than psi_e\n",
    "        \"\"\"\n",
    "        \n",
    "        if time1>=T[psi_e+1]:\n",
    "            G_lower = L(0,T[psi_s])*(1-sig+sig*L(T[psi_s],T[psi_e+GUESS]))*(L(T[psi_e+GUESS],time1))\n",
    "        elif time1>=T[psi_s] and time1<T[psi_e+1]:\n",
    "            G_lower = L(0,time1)\n",
    "        elif time1<T[psi_s]:\n",
    "            G_lower = L(0,time1)\n",
    "        else:\n",
    "            print('there has been an error in G_post!')\n",
    "        G = G_upper/G_lower\n",
    "        return G\n",
    "    \n",
    "    \n",
    "\n",
    "\n",
    "    def delta(int,T):\n",
    "        # difference in each time interval\n",
    "        delta_ = T[int+1] - T[int]\n",
    "        return delta_\n",
    "    \n",
    "    def expected_time(int, T):\n",
    "        sum = 0\n",
    "        for i in range(0, int): # want  range from 0 to beta-1, which is completed by range(0,beta) in python\n",
    "            sum = sum + lambda_(i) * delta(i,T)\n",
    "        numerator =  math.exp(-sum)* (\n",
    "            (T[int]*lambda_(int) + 1) -  math.exp(-delta(int,T)*lambda_(int))*(T[int+1]*lambda_(int) + 1)\n",
    "        )\n",
    "        denominator = L(0,T[int]) * (1-math.exp(-delta(int,T)*lambda_(int))) * lambda_(int)\n",
    "\n",
    "        expec_time = numerator / denominator\n",
    "        return expec_time\n",
    "\n",
    "    \n",
    "    def expected_time_check(expected_times,T):\n",
    "        good = None\n",
    "        if len(expected_times) != (len(T)-1):\n",
    "            print('Error!\\nexpected_time and T do not conform in length.\\nLength of T is {} and length of expected_times is {} Aborting.'.format(len(T),len(expected_times)))\n",
    "            sys.exit()\n",
    "        for i in range(0,len(expected_times)):\n",
    "            if not expected_times[i] > T[i] and expected_times[i] < T[i+1]:\n",
    "                print('Error!\\nexpected_time is not behaving as expected. For int {}, expected_times is {} but intervals are {} and {}'.format(i,expected_times[i],T[i],T[i+1]))\n",
    "                print('Continuing...')\n",
    "                good = False\n",
    "            else:\n",
    "               good = True\n",
    "        if good:\n",
    "            print('expected_times conforms with T.')\n",
    "        return None\n",
    "    \n",
    "    # stationary distribution, eq 23\n",
    "    # do i even use this?\n",
    "    def q_0(int):\n",
    "        q_0 = L(T[0],T[int]) * (1 - math.exp(-delta(int,T) * lambda_(int)))\n",
    "    \n",
    "    def q_2_sum1(alpha):\n",
    "        sum_q = 0\n",
    "        for j in range(0,alpha-1+1): # sum in eq 26 is to (alpha - 1), but add to range one so python includes the (alpha -1) term\n",
    "            iteration = (1/(2*lambda_(j)))*(1 - math.exp(-2*lambda_(j)*delta(j,T)))*(G(T[j+1],T[alpha])**2)\n",
    "            sum_q = sum_q + iteration\n",
    "        return sum_q\n",
    "\n",
    "    def q_2_sum1post(alpha):\n",
    "        sum_q = 0\n",
    "        for j in range(0,alpha-1+1): # sum in eq 26 is to (alpha - 1), but add to range one so python includes the (alpha -1) term\n",
    "            iteration = (1/(2*lambda_(j)))*(1 - math.exp(-2*lambda_(j)*delta(j,T)))*(G_post(T[j+1],T[alpha])**2)\n",
    "            sum_q = sum_q + iteration\n",
    "        return sum_q\n",
    "\n",
    "    # function to write upper triangular of q_2, eq 26. Give as input an N_T x N_T matrix\n",
    "    def upper_diag(q_2):\n",
    "        for alpha in range(0,N_T):\n",
    "            for beta in range (alpha+1,N_T):\n",
    "                \n",
    "                if alpha <(psi_e+1) and beta>=(psi_e+1):\n",
    "                    q_2[alpha, beta] = (1 - math.exp(-2 * rho * expected_time(beta,T))) * (1 / expected_time(beta,T)) * lambda_(alpha) * (sigma(alpha)**2)* (\n",
    "                        (1/(2*lambda_(alpha)))*(1 - math.exp(-2 * delta(alpha,T) * lambda_(alpha))) * q_2_sum1(alpha) + (1 / (2 * lambda_(alpha))) * (delta(alpha,T) - (1 / (2 * lambda_(alpha))) * (1 - math.exp(-2 * delta(alpha,T) * lambda_(alpha))))\n",
    "                                )\n",
    "                elif alpha>=(psi_e+1) and beta>=(psi_e+1): # bottom right corner\n",
    "                    q_2[alpha, beta] = (1 - math.exp(-2 * rho * expected_time(beta,T))) * (1 / expected_time(beta,T)) * lambda_(alpha) * (\n",
    "                        (1/(2*lambda_(alpha)))*(1 - math.exp(-2 * delta(alpha,T) * lambda_(alpha))) * q_2_sum1post(alpha) + (1 / (2 * lambda_(alpha))) * (delta(alpha,T) - (1 / (2 * lambda_(alpha))) * (1 - math.exp(-2 * delta(alpha,T) * lambda_(alpha))))\n",
    "                                )\n",
    "#                     q_2[alpha,beta] = 1\n",
    "                    \n",
    "                else:\n",
    "                    q_2[alpha, beta] = (1 - math.exp(-2 * rho * expected_time(beta,T))) * (1 / expected_time(beta,T)) * lambda_(alpha) * (\n",
    "                        (1/(2*lambda_(alpha)))*(1 - math.exp(-2 * delta(alpha,T) * lambda_(alpha))) * q_2_sum1(alpha) + (1 / (2 * lambda_(alpha))) * (delta(alpha,T) - (1 / (2 * lambda_(alpha))) * (1 - math.exp(-2 * delta(alpha,T) * lambda_(alpha))))\n",
    "                                )\n",
    "                    \n",
    "        return q_2\n",
    "\n",
    "    # this is for the summation in lower diag of q_2, eq 28. j is lowercase gamma\n",
    "    def q_2_sum2(beta):\n",
    "        sum_q = 0\n",
    "        for j in range(0,beta-1+1): # sum in eq 28 is to (beta - 1), but add to range one so python includes the (beta -1) term\n",
    "            iteration = (G(T[j+1],expected_time(beta,T))**2)*(1/(2*lambda_(j)))*(1 - math.exp(-2*lambda_(j)*delta(j,T)))\n",
    "            sum_q = sum_q + iteration\n",
    "        return sum_q\n",
    "\n",
    "    # function to write lower triangular of q_2, eq 28. Give as input an N_T x N_T matrix - can be nonempty (though lower traingular will be overwritten)\n",
    "    def lower_diag(q_2):\n",
    "        for alpha in range (0,N_T):\n",
    "            for beta in range(0,alpha):\n",
    "#                 q_2[alpha, beta] = L(expected_time(beta,T), T[alpha]) * (1 / lambda_(alpha)) * (1 - math.exp(-delta(alpha,T) * lambda_(alpha))) * (1 - math.exp(-2 * rho * expected_time(beta,T))) * (1 / expected_time(beta,T)) * lambda_(alpha) * (sigma(alpha)**1)* (\n",
    "                q_2[alpha, beta] = L(expected_time(beta,T), T[alpha]) * (1 / lambda_(alpha)) * (1 - math.exp(-delta(alpha,T) * lambda_(alpha))) * (1 - math.exp(-2 * rho * expected_time(beta,T))) * (1 / expected_time(beta,T)) * lambda_(alpha) *  (                  \n",
    "                                        q_2_sum2(beta) + (1 / (2 * lambda_(beta))) * (1 - math.exp(-2 * lambda_(beta) * (expected_time(beta,T) - T[beta])))\n",
    "                                )\n",
    "        return q_2\n",
    "\n",
    "    # flagpan\n",
    "    \n",
    "    lambda_array = [lambda_(i) for i in range(0,N_T)]\n",
    "    print(lambda_array)\n",
    "    \n",
    "    rho = 2 * N_0 * r # is rho population or per gen per bp?\n",
    "    expected_times = [expected_time(i,T) for i in range(0,len(T)-1)]\n",
    "    expected_time_check(expected_times,T)\n",
    "    \n",
    "    # initialise q_2, which is whole transition matrix\n",
    "    q_2 = np.zeros(shape=(N_T,N_T))\n",
    "    q_2_upper = np.zeros(shape=(N_T,N_T))\n",
    "    q_2_lower = np.zeros(shape=(N_T,N_T))\n",
    "    \n",
    "    q_2_upper = upper_diag(q_2_upper)\n",
    "    q_2_lower = lower_diag(q_2_lower)\n",
    "    \n",
    "    q_2 = q_2_upper + q_2_lower\n",
    "    \n",
    "\n",
    "    # initialise q_1\n",
    "    # old q_1 = [1 - sum(q_2[i,0:N_T]) for i in range(0,N_T)]\n",
    "    q_1 = [1 - sum(q_2[:,i]) for i in range(0,N_T)]\n",
    "\n",
    "    # eq 30, combine q_1 and q_2\n",
    "    q_ = np.copy(q_2)\n",
    "    for i in range(0,q_.shape[0]):\n",
    "        q_[i,i] = q_1[i]\n",
    "\n",
    "    print('Finished')\n",
    "    \"\"\"\n",
    "    q_2 is full N_T x N_T matrix with empty diagonals\n",
    "    q_2_upper is the upper triangular of q\n",
    "    q_2 is the lower triangular of q\n",
    "    q_1 is 1 x N_T array of diagonals \n",
    "    q_ is full N_T x N_T matrix\n",
    "    \"\"\"\n",
    "    return q_2, q_2_upper, q_2_lower, q_1, q_\n"
   ]
  },
  {
   "cell_type": "code",
   "execution_count": 586,
   "metadata": {
    "scrolled": false
   },
   "outputs": [
    {
     "name": "stdout",
     "output_type": "stream",
     "text": [
      "pop_size is [10000, 10000, 10000, 10000, 10000, 10000, 10000, 10000, 10000, 10000, 10000, 10000, 10000, 10000, 10000, 10000, 10000, 10000, 10000, 10000, 10000, 10000, 10000, 10000, 10000, 10000, 10000, 10000, 10000, 10000, 10000, 10000, 10000, 10000, 10000, 10000, 10000, 10000, 10000, 10000, 10000, 10000, 10000, 10000, 10000, 10000, 10000, 10000, 10000, 10000]\n",
      "[1.0, 1.0, 1.0, 1.0, 1.0, 1.0, 1.0, 1.0, 1.0, 1.0, 1.0, 1.0, 1.0, 1.0, 1.0, 1.0, 1.0, 1.0, 1.0, 1.0, 1.0, 1.0, 1.0, 1.0, 1.0, 1.0, 1.0, 1.0, 1.0, 1.0, 1.0, 1.0, 1.0, 1.0, 1.0, 1.0, 1.0, 1.0, 1.0, 1.0, 1.0, 1.0, 1.0, 1.0, 1.0, 1.0, 1.0, 1.0, 1.0, 1.0]\n",
      "expected_times conforms with T.\n",
      "Finished\n"
     ]
    },
    {
     "name": "stderr",
     "output_type": "stream",
     "text": [
      "/home/trevor/ancestry/heatmaps_generate.py:27: UserWarning: Matplotlib is currently using module://ipykernel.pylab.backend_inline, which is a non-GUI backend, so cannot show the figure.\n",
      "  fig.show()\n"
     ]
    },
    {
     "data": {
      "image/png": "[encoded data removed]",
      "text/plain": [
       "<Figure size 864x576 with 2 Axes>"
      ]
     },
     "metadata": {
      "needs_background": "light"
     },
     "output_type": "display_data"
    }
   ],
   "source": [
    "q_2_C, q_2_upper_C, q_2_lower_C, q_1_C, q_C = structuredsplit_abinitio_new(T_np,50,pop_size2,gamma_array2,N_0,r=2e-08*args.bin_length)\n",
    "heatmaps_seq(normalise(q_2_C,'colmax'),title='theoretical TM, constant pop size') # normalise this matrix and then plot heatmap"
   ]
  },
  {
   "cell_type": "code",
   "execution_count": 589,
   "metadata": {},
   "outputs": [
    {
     "name": "stderr",
     "output_type": "stream",
     "text": [
      "/home/trevor/ancestry/heatmaps_generate.py:46: UserWarning: Matplotlib is currently using module://ipykernel.pylab.backend_inline, which is a non-GUI backend, so cannot show the figure.\n",
      "  fig.show()\n"
     ]
    },
    {
     "name": "stdout",
     "output_type": "stream",
     "text": [
      "total absolute differences in these matrics is 0.32865735556531916\n"
     ]
    },
    {
     "data": {
      "image/png": "[encoded data removed]",
      "text/plain": [
       "<Figure size 864x576 with 2 Axes>"
      ]
     },
     "metadata": {
      "needs_background": "light"
     },
     "output_type": "display_data"
    }
   ],
   "source": [
    "tm_2b = normalise(tm2b,'colsum')\n",
    "diff_2C = q_C - tm_2b # theory minus observations\n",
    "diff_2C_nd = np.copy(diff_2C)\n",
    "diff_2C_nd = remove_diagonals(diff_2C_nd)\n",
    "\n",
    "# heatmaps_div(diff_2C,title=\"Difference between theoretical TM and observed TM, with diagonals\")\n",
    "heatmaps_div(diff_2C_nd,title=\"Difference between theoretical TM and observed TM, no diagonals\")\n",
    "# heatmaps_div_patch(diff_2C_nd,title=\"Difference between (new) theoretical TM and observed TM, with diagonals\",patch=[20,17])\n",
    "\n",
    "print('total absolute differences in these matrics is {}'.format(sum(abs(diff_2C)).sum()))\n"
   ]
  },
  {
   "cell_type": "code",
   "execution_count": null,
   "metadata": {},
   "outputs": [],
   "source": [
    "# flaggg"
   ]
  },
  {
   "cell_type": "markdown",
   "metadata": {},
   "source": [
    "don't get it :( :( :("
   ]
  }
 ],
 "metadata": {
  "kernelspec": {
   "display_name": "Python 3",
   "language": "python",
   "name": "python3"
  },
  "language_info": {
   "codemirror_mode": {
    "name": "ipython",
    "version": 3
   },
   "file_extension": ".py",
   "mimetype": "text/x-python",
   "name": "python",
   "nbconvert_exporter": "python",
   "pygments_lexer": "ipython3",
   "version": "3.6.9"
  }
 },
 "nbformat": 4,
 "nbformat_minor": 4
}
