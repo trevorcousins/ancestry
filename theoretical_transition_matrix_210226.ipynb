{
 "cells": [
  {
   "cell_type": "markdown",
   "metadata": {},
   "source": [
    "# Theoretical Transition Matrix\n",
    "\n",
    "Will try to create a transition matrix, under population structure, from theory."
   ]
  },
  {
   "cell_type": "code",
   "execution_count": 2,
   "metadata": {},
   "outputs": [],
   "source": [
    "# from abinitio_tm import abinitio \n",
    "import numpy as np\n",
    "from msprime_models import * \n",
    "# from abinitio_tm import scaled_time_intervals\n",
    "# from msprime_utils import scaled_time_intervals, get_het, round_coal_times, tm_counts, get_coal_data, round_bin_coal_data, normalise\n",
    "from msprime_utils import *\n",
    "from heatmaps_generate import * \n",
    "from vcf_mhs import *\n",
    "import argparse\n",
    "from matplotlib.patches import Rectangle\n",
    "import pdb\n",
    "\n",
    "\n",
    "\n",
    "# change plot size\n",
    "plt.rcParams['figure.figsize'] = [12, 8]"
   ]
  },
  {
   "cell_type": "code",
   "execution_count": 61,
   "metadata": {},
   "outputs": [],
   "source": [
    "def theoretical_matrix(time_array,T_s,T_e,gamma,N,rho=2e-08,mu=2e-08):\n",
    "    \"\"\"\n",
    "    Function to output transition matrix probabilities, under population structure.\n",
    "    Assume constant population size for now\n",
    "    time_array: a np array of time points, let's try discreet generations as input ( i.e. [1,2,3,...,200000])\n",
    "    T_s: start point of structure, in discrete time\n",
    "    T_e: end point of structure, in discrete time\n",
    "    gamma: fraction of lineages migrating\n",
    "    N: population size, in future upgrade to non constant size capability\n",
    "    \"\"\"\n",
    "    \n",
    "    # convert all times (given in discrete) to continuous\n",
    "    time_array = time_array/(2*N)\n",
    "    T_s = T_s/(2*N)\n",
    "    T_e = T_e/(2*N)\n",
    "    \n",
    "    # break down into cases\n",
    "    \n",
    "    def lambd(t):\n",
    "        # return population array size into continuous time\n",
    "        lambd = 1\n",
    "        return lambd\n",
    "    \n",
    "    def lambd_A(t):\n",
    "        # return population array size into continuous time\n",
    "        lambd = 1\n",
    "        return lambd\n",
    "    \n",
    "    def lambd_B(t):\n",
    "        lambd =1\n",
    "        # return population array size into continuous time\n",
    "        return lambd\n",
    "    \n",
    "    def L(time1,time2):\n",
    "        L = np.exp(-(time2 - time1))\n",
    "        return L\n",
    "    \n",
    "    def int_L_c(time2,c):\n",
    "        if time2<c:\n",
    "            print('mistake in int_L_c')\n",
    "        else: \n",
    "            intL = 1 - np.exp(-(time2-c))  \n",
    "        return intL\n",
    "    \n",
    "    def int_L_squared_0(t2):\n",
    "        # integral of L(time1, time2)^2 from 0 to time2\n",
    "        intL = 0.5 * (1-np.exp(-2*t2))\n",
    "        return intL\n",
    "    \n",
    "    def int_L_squared_c(time2,c):\n",
    "        # integral of L(time1,time2)^2 from c to time2\n",
    "        if c>time2:\n",
    "            print('mistake in int_L_squared_c')\n",
    "        else:\n",
    "            intL = 0.5 * (1-np.exp(-2*(time2-c)))\n",
    "        return intL\n",
    "        \n",
    "    # Case 1, 2 and 3,\n",
    "    def Case123(Q,t,s):\n",
    "        q = (1-np.exp(-2*rho*s))*(1/s)*lambd(t)*int_L_squared_0(t)\n",
    "        return q\n",
    "        \n",
    "    def Case4(Q,t,s):\n",
    "    # Case 4\n",
    "    \n",
    "        prob_a = ((1-gamma)**2)/( ((1-gamma)**2)+gamma**2 ) # probability of case a)\n",
    "        prob_b = ((gamma)**2)/( ((1-gamma)**2)+gamma**2 ) # probability of case b)\n",
    "        q = (1-np.exp(-2*rho*s))*(1/s)*(\n",
    "            prob_a*lambd_A(t)*( int_L_squared_0(T_s)*(1-gamma)*(L(T_s,t)**2) + int_L_squared_c(t,T_s) )+\n",
    "            prob_b*lambd_B(t)*( int_L_squared_0(T_s)*(gamma)*(L(T_s,t)**2) + int_L_squared_c(t,T_s) ) \n",
    "            )\n",
    "        return q\n",
    "    \n",
    "    def Case5(Q,t,s):\n",
    "        q = Case4(Q,t,s) # Case 5 is the same as Case 4, I think\n",
    "        return q\n",
    "    \n",
    "    def Case6(Q,t,s):\n",
    "        prob_a = ((1-gamma)**2)\n",
    "        prob_b = ((gamma)**2)\n",
    "        prob_c = 2*gamma*(1-gamma)\n",
    "        q = (1-np.exp(-2*rho*s))*(1/s)*lambd(t)*(\n",
    "            prob_a*( int_L_squared_0(T_s)*(1-gamma)*(L(T_s,T_e)**2)*(L(T_e,t)**2) + int_L_squared_c(T_e,T_s)*(L(T_e,t)**2) + \n",
    "                    int_L_squared_c(t,T_e)) +\n",
    "            prob_b*( int_L_squared_0(T_s)*(gamma)*(L(T_s,T_e)**2)*(L(T_e,t)**2) + int_L_squared_c(T_e,T_s)*(L(T_e,t)**2) +\n",
    "                    int_L_squared_c(t,T_e)) +\n",
    "            prob_c*( (L(T_e,t)**2)*int_L_squared_0(T_s)*( (1-gamma)*L(T_s,T_e) + gamma*(L(T_s,T_e)) )\n",
    "                    + (L(T_e,t)**2)*0.5*( int_L_c(T_e,T_s) + int_L_c(T_e,T_s) ) + int_L_squared_c(t,T_e))    \n",
    "        )\n",
    "        return q\n",
    "    \n",
    "    \n",
    "     # initialise Q, which is whole transition matrix\n",
    "    Q = np.zeros(shape=(len(time_array),len(time_array)))\n",
    "\n",
    "    # write values of Q, on Case by Case basis\n",
    "    for i in range(0,len(time_array)):\n",
    "        t = time_array[i]\n",
    "        for j in range(i+1,len(time_array)):\n",
    "            s = time_array[j]\n",
    "#             print(f'i is {i}, j is {j}, t is {t}, s is {s}, T_s is {T_s}, T_e is {T_e}')\n",
    "            if (t < T_s and s < T_s) or (t < T_s and T_s <= s < T_e) or (t < T_s and s >= T_e):\n",
    "                Q[i,j] = Case123(Q,t,s)\n",
    "            elif (t>=T_s and t<T_e) and (s>=T_s and s<T_e):\n",
    "                Q[i,j] = Case4(Q,t,s)\n",
    "            elif (t>=T_s and t<T_e) and (s>=T_e):\n",
    "                Q[i,j] = Case5(Q,t,s)\n",
    "            elif (t>=T_e) and (s>=T_e):\n",
    "                Q[i,j] = Case6(Q,t,s)\n",
    "            else: \n",
    "                print('problem in assigning case')\n",
    "    \n",
    "    print('success, returning Q')\n",
    "    return Q"
   ]
  },
  {
   "cell_type": "code",
   "execution_count": 62,
   "metadata": {},
   "outputs": [],
   "source": [
    "# parameters\n",
    "T_s = 20000 # start of structure\n",
    "T_e = 40000 # end of structure\n",
    "N = 10000 # diploid population size\n",
    "gamma = 0.2 # percentage of lineages splitting at T_s\n",
    "\n",
    "# time_array TODO make this logarithmic\n",
    "max_time = 200000 # max time in time_array\n",
    "resolution = 200 #  resolution of transitio matrix, how many time intervals are wanted  \n",
    "time_array = np.arange(0,max_time,max_time/resolution)\n"
   ]
  },
  {
   "cell_type": "code",
   "execution_count": 63,
   "metadata": {},
   "outputs": [
    {
     "name": "stdout",
     "output_type": "stream",
     "text": [
      "success, returning Q\n"
     ]
    }
   ],
   "source": [
    "Q = theoretical_matrix(time_array,T_s,T_e,gamma,N,rho=2e-08,mu=2e-08)"
   ]
  },
  {
   "cell_type": "code",
   "execution_count": 64,
   "metadata": {},
   "outputs": [
    {
     "name": "stderr",
     "output_type": "stream",
     "text": [
      "/home/trevor/ancestry/heatmaps_generate.py:27: UserWarning: Matplotlib is currently using module://ipykernel.pylab.backend_inline, which is a non-GUI backend, so cannot show the figure.\n",
      "  fig.show()\n"
     ]
    },
    {
     "data": {
      "image/png": "[encoded data removed]",
      "text/plain": [
       "<Figure size 864x576 with 2 Axes>"
      ]
     },
     "metadata": {
      "needs_background": "light"
     },
     "output_type": "display_data"
    }
   ],
   "source": [
    "heatmaps_seq(Q,title='Theoertical Structured Transition Matrix') # show heatmap\n",
    "# think this might be ok!"
   ]
  },
  {
   "cell_type": "code",
   "execution_count": null,
   "metadata": {},
   "outputs": [],
   "source": []
  }
 ],
 "metadata": {
  "kernelspec": {
   "display_name": "Python 3",
   "language": "python",
   "name": "python3"
  },
  "language_info": {
   "codemirror_mode": {
    "name": "ipython",
    "version": 3
   },
   "file_extension": ".py",
   "mimetype": "text/x-python",
   "name": "python",
   "nbconvert_exporter": "python",
   "pygments_lexer": "ipython3",
   "version": "3.6.9"
  }
 },
 "nbformat": 4,
 "nbformat_minor": 4
}
