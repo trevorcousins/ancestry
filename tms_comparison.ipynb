{
 "cells": [
  {
   "cell_type": "code",
   "execution_count": 1,
   "metadata": {},
   "outputs": [],
   "source": [
    "import os\n",
    "from datetime import datetime\n",
    "import argparse\n",
    "from msprime_models import * \n",
    "# from abinitio_tm import scaled_time_intervals\n",
    "# from msprime_utils import scaled_time_intervals, get_het, round_coal_times, tm_counts, get_coal_data, round_bin_coal_data, normalise\n",
    "from msprime_utils import *\n",
    "from heatmaps_generate import *\n",
    "from vcf_mhs import *\n",
    "import numpy as np\n",
    "import pdb\n",
    "import math\n",
    "import pandas as pd\n",
    "from scipy.stats import entropy\n",
    "import argparse\n",
    "import matplotlib.pyplot as plt\n",
    "import numpy as np\n"
   ]
  },
  {
   "cell_type": "code",
   "execution_count": 3,
   "metadata": {},
   "outputs": [],
   "source": [
    "# pecify the paramaters you want. Defaults as below\n",
    "\n",
    "parser = argparse.ArgumentParser()\n",
    "parser.add_argument(\"model\",help=\"Specify the model to be used, as defined in msprime_models.\")\n",
    "parser.add_argument(\"-N\",\"--N_0\",help=\"Initial population size (Default is 1e+04\",default=1e+04,type=int)\n",
    "parser.add_argument(\"-L\",\"--seq_length\",help=\"Length of the sequence to be simulated (default 3e+07)\",default=int(3e+07),type=int)\n",
    "parser.add_argument(\"-mig\",\"--migration_prop\",help=\"Proportion of migrating population (default 0.3)\",default=0.3,type=float)\n",
    "parser.add_argument(\"-t\",\"--time_splits\",nargs=2,help=\"Time of splits, in generations (default t_1 = 2e+04, t_2 = 4e+04)\",default = [int(2e+04),int(4e+04)])\n",
    "parser.add_argument(\"-bin\",\"--bin_length\",help=\"The length (in bases) of the how wide you want each bin. (Default is 100)\",default=100,type=int)\n",
    "parser.add_argument(\"-o_coaldir\",\"--output_coaldir\",help=\"Output directory of coalescent data\",default=os.getcwd() + '/coal_data/',type=str)\n",
    "parser.add_argument(\"-o_coalname\",\"--output_coalname\",help=\"Output name for coal_data filename\",default='',type=str)\n",
    "parser.add_argument(\"-o_mhsdir\",\"--output_mhsdir\",help=\"Output dir for vcf and mhs data\",default=os.getcwd() + '/vcf_mhs/',type=str)\n",
    "parser.add_argument(\"-o_mhsname\",\"--output_mhsname\",help=\"Output name for vcf and mhs data\",default = '',type=str)\n",
    "parser.add_argument(\"-rho\",\"--recomb_rate\",help=\"Rate of recombination per bp per generation\",default=2e-08,type=float)\n",
    "parser.add_argument(\"-mew\",\"--mut_rate\",help=\"Rate of mutation per bp per generation\",default=2e-08,type=float)\n",
    "parser.add_argument(\"--suffix_time\",help=\"Boolean, whether to write the time in to the files (useful for multi runs of the same simulation\",action=\"store_true\")\n",
    "parser.add_argument(\"--print\",help=\"Print the DemographicDebugger (from msprime) and the number of segratating sites\",action=\"store_true\")\n",
    "parser.add_argument(\"--tree\",help=\"Draw trees and info per segment\",action=\"store_true\")\n",
    "args = parser.parse_args(\"m0001\".split())"
   ]
  },
  {
   "cell_type": "code",
   "execution_count": 4,
   "metadata": {},
   "outputs": [
    {
     "name": "stdout",
     "output_type": "stream",
     "text": [
      "files are ['20201127_instant_struct0001_mig1_093903.txt', '20201127_instant_struct0001_mig1_094150.txt', '20201127_instant_struct0001_mig1_094432.txt', '20201127_instant_struct0001_mig1_094722.txt', '20201127_instant_struct0001_mig1_095007.txt', '20201127_instant_struct0001_mig1_095250.txt', '20201127_instant_struct0001_mig1_095527.txt', '20201127_instant_struct0001_mig1_095814.txt', '20201127_instant_struct0001_mig1_100053.txt', '20201127_instant_struct0001_mig1_100332.txt', '20201127_instant_struct0001_mig1_100607.txt', '20201127_instant_struct0001_mig1_100851.txt', '20201127_instant_struct0001_mig1_101136.txt', '20201127_instant_struct0001_mig1_101414.txt', '20201127_instant_struct0001_mig1_101649.txt', '20201127_instant_struct0001_mig1_101923.txt', '20201127_instant_struct0001_mig1_102203.txt', '20201127_instant_struct0001_mig1_102443.txt', '20201127_instant_struct0001_mig1_102724.txt', '20201127_instant_struct0001_mig1_102955.txt', '20201127_instant_struct0001_mig1_123359.txt', '20201127_instant_struct0001_mig1_124612.txt']\n"
     ]
    }
   ],
   "source": [
    "path =  '/home/trevor/ancestry/coal_data/mig01/'\n",
    "files = os.listdir(path)\n",
    "print(f'files are {files}')\n",
    "test = np.loadtxt(path+files[0],comments=\"#\")\n",
    "seq_length = 150e+06 * len(files)\n",
    "\n"
   ]
  },
  {
   "cell_type": "code",
   "execution_count": 5,
   "metadata": {},
   "outputs": [],
   "source": [
    "# scaled_time_intervals \n",
    "mu = 2e-08\n",
    "alpha = 0.1\n",
    "N_0 = 10000 # TODO, use sim\n",
    "Tmax = 15\n",
    "N_T = 50\n",
    "T = [0]\n",
    "for i in range(0,N_T): # TODO: should T have upper interval\n",
    "        T.append( alpha*math.exp( (i/N_T)*math.log(1 + Tmax/alpha) - 1))\n",
    "T_np = np.array(T) # convert to numpy\n",
    "# scale these to generations with *2*N_0, as per Schiffels' instruction\n",
    "T_scaled_np = T_np * 2 * N_0\n",
    "\n",
    "# print(f'T_scaled_np {T_scaled_np}')\n",
    "coal_times = round_bin_coal_data(seq_length,test, args)\n",
    "# print(coal_times[0:200])\n",
    "# coal_times_intervals = round_coal_times(coal_times,T_scaled_np,N_T)\n",
    "\n",
    "np.where(coal_times==0) # gives 150000\n",
    "temp_coal_times = coal_times[0:1500000]\n",
    "# print(f'coal_times {coal})"
   ]
  },
  {
   "cell_type": "code",
   "execution_count": 6,
   "metadata": {},
   "outputs": [],
   "source": [
    "coal_times_intervals = []\n",
    "for i in range(len(temp_coal_times)):\n",
    "    diff = temp_coal_times[i] - T_scaled_np\n",
    "    diff_pos = diff[diff >0]\n",
    "    where = np.argmin(diff_pos) # find closest interval\n",
    "    if where == N_T: #TODO find a better fix for this. Have extended T to include upper interval\n",
    "        where = where - 1\n",
    "    coal_times_intervals.append(where) \n",
    "\n",
    "# np.where(temp_coal_times==0)"
   ]
  },
  {
   "cell_type": "code",
   "execution_count": 7,
   "metadata": {},
   "outputs": [
    {
     "name": "stderr",
     "output_type": "stream",
     "text": [
      "/home/trevor/ancestry/heatmaps_generate.py:27: UserWarning: Matplotlib is currently using module://ipykernel.pylab.backend_inline, which is a non-GUI backend, so cannot show the figure.\n",
      "  fig.show()\n"
     ]
    },
    {
     "data": {
      "image/png": "[encoded data removed]",
      "text/plain": [
       "<Figure size 432x288 with 2 Axes>"
      ]
     },
     "metadata": {
      "needs_background": "light"
     },
     "output_type": "display_data"
    }
   ],
   "source": [
    "coal_times_intervals\n",
    "tm = tm_counts(coal_times_intervals,N_T=N_T)\n",
    "tm_norm = normalise(tm,'colsum') # normalise this such that it represents a probability distribution\n",
    "\n",
    "# remove diagonals. let nd stand for 'nodiagonals'\n",
    "tm_nd = np.copy(tm)\n",
    "tm_nd[range(0,len(tm)),range(0,len(tm))] = 0\n",
    "tm_nd_norm = normalise(tm_nd,'colsum') # normalise over max of each columnn (return a probability distribution over columns)\n",
    "\n",
    "# TODO left-most and upper-most column look strange - try and fix. Update, think this is ok\n",
    "heatmaps_seq(normalise(tm_nd,'colmax'),title='Normalised true TM') # show heatmap"
   ]
  }
 ],
 "metadata": {
  "kernelspec": {
   "display_name": "Python 3",
   "language": "python",
   "name": "python3"
  },
  "language_info": {
   "codemirror_mode": {
    "name": "ipython",
    "version": 3
   },
   "file_extension": ".py",
   "mimetype": "text/x-python",
   "name": "python",
   "nbconvert_exporter": "python",
   "pygments_lexer": "ipython3",
   "version": "3.6.9"
  }
 },
 "nbformat": 4,
 "nbformat_minor": 4
}
