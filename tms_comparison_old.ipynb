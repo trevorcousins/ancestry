{
 "cells": [
  {
   "cell_type": "code",
   "execution_count": 1,
   "metadata": {},
   "outputs": [],
   "source": [
    "import os\n",
    "from datetime import datetime\n",
    "import argparse\n",
    "from msprime_models import * \n",
    "# from abinitio_tm import scaled_time_intervals\n",
    "# from msprime_utils import scaled_time_intervals, get_het, round_coal_times, tm_counts, get_coal_data, round_bin_coal_data, normalise\n",
    "from msprime_utils import *\n",
    "from heatmaps_generate import *\n",
    "from vcf_mhs import *\n",
    "import numpy as np\n",
    "import pdb\n",
    "import math\n",
    "import pandas as pd\n",
    "from scipy.stats import entropy\n",
    "import argparse\n",
    "import matplotlib.pyplot as plt\n",
    "import numpy as np\n"
   ]
  },
  {
   "cell_type": "code",
   "execution_count": 2,
   "metadata": {},
   "outputs": [],
   "source": [
    "# pecify the paramaters you want. Defaults as below\n",
    "\n",
    "parser = argparse.ArgumentParser()\n",
    "parser.add_argument(\"model\",help=\"Specify the model to be used, as defined in msprime_models.\")\n",
    "parser.add_argument(\"-N\",\"--N_0\",help=\"Initial population size (Default is 1e+04\",default=1e+04,type=int)\n",
    "parser.add_argument(\"-L\",\"--seq_length\",help=\"Length of the sequence to be simulated (default 3e+07)\",default=int(3e+07),type=int)\n",
    "parser.add_argument(\"-mig\",\"--migration_prop\",help=\"Proportion of migrating population (default 0.3)\",default=0.3,type=float)\n",
    "parser.add_argument(\"-t\",\"--time_splits\",nargs=2,help=\"Time of splits, in generations (default t_1 = 2e+04, t_2 = 4e+04)\",default = [int(2e+04),int(4e+04)])\n",
    "parser.add_argument(\"-bin\",\"--bin_length\",help=\"The length (in bases) of the how wide you want each bin. (Default is 100)\",default=100,type=int)\n",
    "parser.add_argument(\"-o_coaldir\",\"--output_coaldir\",help=\"Output directory of coalescent data\",default=os.getcwd() + '/coal_data/',type=str)\n",
    "parser.add_argument(\"-o_coalname\",\"--output_coalname\",help=\"Output name for coal_data filename\",default='',type=str)\n",
    "parser.add_argument(\"-o_mhsdir\",\"--output_mhsdir\",help=\"Output dir for vcf and mhs data\",default=os.getcwd() + '/vcf_mhs/',type=str)\n",
    "parser.add_argument(\"-o_mhsname\",\"--output_mhsname\",help=\"Output name for vcf and mhs data\",default = '',type=str)\n",
    "parser.add_argument(\"-rho\",\"--recomb_rate\",help=\"Rate of recombination per bp per generation\",default=2e-08,type=float)\n",
    "parser.add_argument(\"-mew\",\"--mut_rate\",help=\"Rate of mutation per bp per generation\",default=2e-08,type=float)\n",
    "parser.add_argument(\"--suffix_time\",help=\"Boolean, whether to write the time in to the files (useful for multi runs of the same simulation\",action=\"store_true\")\n",
    "parser.add_argument(\"--print\",help=\"Print the DemographicDebugger (from msprime) and the number of segratating sites\",action=\"store_true\")\n",
    "parser.add_argument(\"--tree\",help=\"Draw trees and info per segment\",action=\"store_true\")\n",
    "args = parser.parse_args(\"m0001\".split())"
   ]
  },
  {
   "cell_type": "code",
   "execution_count": 3,
   "metadata": {},
   "outputs": [],
   "source": [
    "# scaled_time_intervals \n",
    "\n",
    "mu = 2e-08\n",
    "alpha = 0.1\n",
    "N_0 = 10000 # TODO, use sim\n",
    "Tmax = 15\n",
    "N_T = 50\n",
    "T = [0]\n",
    "for i in range(0,N_T): # TODO: should T have upper interval\n",
    "        T.append( alpha*math.exp( (i/N_T)*math.log(1 + Tmax/alpha) - 1))\n",
    "T_np = np.array(T) # convert to numpy\n",
    "# scale these to generations with *2*N_0, as per Schiffels' instruction\n",
    "T_scaled_np = T_np * 2 * N_0"
   ]
  },
  {
   "cell_type": "markdown",
   "metadata": {},
   "source": [
    "## Mig01\n",
    "\n",
    "History where 0.1 of lineages migrate to another population at time T_1, then return back at time T_2."
   ]
  },
  {
   "cell_type": "code",
   "execution_count": 4,
   "metadata": {},
   "outputs": [
    {
     "name": "stdout",
     "output_type": "stream",
     "text": [
      "Files are:\\m\n",
      "File 0 is /home/trevor/ancestry/coal_data/mig01/20201127_instant_struct0001_mig1_093903.txt\n",
      "File 1 is /home/trevor/ancestry/coal_data/mig01/20201127_instant_struct0001_mig1_094150.txt\n",
      "File 2 is /home/trevor/ancestry/coal_data/mig01/20201127_instant_struct0001_mig1_094432.txt\n",
      "File 3 is /home/trevor/ancestry/coal_data/mig01/20201127_instant_struct0001_mig1_094722.txt\n",
      "File 4 is /home/trevor/ancestry/coal_data/mig01/20201127_instant_struct0001_mig1_095007.txt\n",
      "File 5 is /home/trevor/ancestry/coal_data/mig01/20201127_instant_struct0001_mig1_095250.txt\n",
      "File 6 is /home/trevor/ancestry/coal_data/mig01/20201127_instant_struct0001_mig1_095527.txt\n",
      "File 7 is /home/trevor/ancestry/coal_data/mig01/20201127_instant_struct0001_mig1_095814.txt\n",
      "File 8 is /home/trevor/ancestry/coal_data/mig01/20201127_instant_struct0001_mig1_100053.txt\n",
      "File 9 is /home/trevor/ancestry/coal_data/mig01/20201127_instant_struct0001_mig1_100332.txt\n",
      "File 10 is /home/trevor/ancestry/coal_data/mig01/20201127_instant_struct0001_mig1_100607.txt\n",
      "File 11 is /home/trevor/ancestry/coal_data/mig01/20201127_instant_struct0001_mig1_100851.txt\n",
      "File 12 is /home/trevor/ancestry/coal_data/mig01/20201127_instant_struct0001_mig1_101136.txt\n",
      "File 13 is /home/trevor/ancestry/coal_data/mig01/20201127_instant_struct0001_mig1_101414.txt\n",
      "File 14 is /home/trevor/ancestry/coal_data/mig01/20201127_instant_struct0001_mig1_101649.txt\n",
      "File 15 is /home/trevor/ancestry/coal_data/mig01/20201127_instant_struct0001_mig1_101923.txt\n",
      "File 16 is /home/trevor/ancestry/coal_data/mig01/20201127_instant_struct0001_mig1_102203.txt\n",
      "File 17 is /home/trevor/ancestry/coal_data/mig01/20201127_instant_struct0001_mig1_102443.txt\n",
      "File 18 is /home/trevor/ancestry/coal_data/mig01/20201127_instant_struct0001_mig1_102724.txt\n",
      "File 19 is /home/trevor/ancestry/coal_data/mig01/20201127_instant_struct0001_mig1_102955.txt\n",
      "File 20 is /home/trevor/ancestry/coal_data/mig01/20201127_instant_struct0001_mig1_123359.txt\n",
      "File 21 is /home/trevor/ancestry/coal_data/mig01/20201127_instant_struct0001_mig1_124612.txt\n"
     ]
    }
   ],
   "source": [
    "path =  '/home/trevor/ancestry/coal_data/mig01/'\n",
    "files = os.listdir(path)\n",
    "print('Files are:\\m')\n",
    "for i in range(len(files)):\n",
    "    print(f'File {i} is {path + files[i]}')\n",
    "seq_length = 150e+06 # length of sequence used for simulations\n",
    "mig01_tms = np.zeros(shape=(N_T,N_T))\n",
    "\n"
   ]
  },
  {
   "cell_type": "code",
   "execution_count": 5,
   "metadata": {},
   "outputs": [
    {
     "name": "stdout",
     "output_type": "stream",
     "text": [
      "on iteration 0 of 22; file is 20201127_instant_struct0001_mig1_093903.txt\n",
      "on iteration 1 of 22; file is 20201127_instant_struct0001_mig1_094150.txt\n",
      "on iteration 2 of 22; file is 20201127_instant_struct0001_mig1_094432.txt\n",
      "on iteration 3 of 22; file is 20201127_instant_struct0001_mig1_094722.txt\n",
      "on iteration 4 of 22; file is 20201127_instant_struct0001_mig1_095007.txt\n",
      "on iteration 5 of 22; file is 20201127_instant_struct0001_mig1_095250.txt\n",
      "on iteration 6 of 22; file is 20201127_instant_struct0001_mig1_095527.txt\n",
      "on iteration 7 of 22; file is 20201127_instant_struct0001_mig1_095814.txt\n",
      "on iteration 8 of 22; file is 20201127_instant_struct0001_mig1_100053.txt\n",
      "on iteration 9 of 22; file is 20201127_instant_struct0001_mig1_100332.txt\n",
      "on iteration 10 of 22; file is 20201127_instant_struct0001_mig1_100607.txt\n",
      "on iteration 11 of 22; file is 20201127_instant_struct0001_mig1_100851.txt\n",
      "on iteration 12 of 22; file is 20201127_instant_struct0001_mig1_101136.txt\n",
      "on iteration 13 of 22; file is 20201127_instant_struct0001_mig1_101414.txt\n",
      "on iteration 14 of 22; file is 20201127_instant_struct0001_mig1_101649.txt\n",
      "on iteration 15 of 22; file is 20201127_instant_struct0001_mig1_101923.txt\n",
      "on iteration 16 of 22; file is 20201127_instant_struct0001_mig1_102203.txt\n",
      "on iteration 17 of 22; file is 20201127_instant_struct0001_mig1_102443.txt\n",
      "on iteration 18 of 22; file is 20201127_instant_struct0001_mig1_102724.txt\n",
      "on iteration 19 of 22; file is 20201127_instant_struct0001_mig1_102955.txt\n",
      "on iteration 20 of 22; file is 20201127_instant_struct0001_mig1_123359.txt\n",
      "on iteration 21 of 22; file is 20201127_instant_struct0001_mig1_124612.txt\n"
     ]
    }
   ],
   "source": [
    "for i in range(len(files)):\n",
    "    print('on iteration {} of {}; file is {}'.format(i,len(files),files[i]))\n",
    "    test = np.loadtxt(path+files[0],comments=\"#\")\n",
    "    coal_times = round_bin_coal_data(seq_length,test, args)\n",
    "    coal_times_intervals = round_coal_times(coal_times,T_scaled_np,N_T)\n",
    "    tm = tm_counts(coal_times_intervals,N_T=N_T)\n",
    "    mig01_tms = mig01_tms + tm"
   ]
  },
  {
   "cell_type": "code",
   "execution_count": 6,
   "metadata": {},
   "outputs": [
    {
     "name": "stderr",
     "output_type": "stream",
     "text": [
      "/home/trevor/ancestry/heatmaps_generate.py:27: UserWarning: Matplotlib is currently using module://ipykernel.pylab.backend_inline, which is a non-GUI backend, so cannot show the figure.\n",
      "  fig.show()\n"
     ]
    },
    {
     "data": {
      "image/png": "[encoded data removed]",
      "text/plain": [
       "<Figure size 432x288 with 2 Axes>"
      ]
     },
     "metadata": {
      "needs_background": "light"
     },
     "output_type": "display_data"
    }
   ],
   "source": [
    "tm_norm_mig01 = normalise(mig01_tms,'colsum') # normalise this such that it represents a probability distribution\n",
    "\n",
    "# remove diagonals. let nd stand for 'nodiagonals'\n",
    "tm_nd_mig01 = np.copy(tm_norm_mig01)\n",
    "tm_nd_mig01[range(0,len(tm_nd_mig01)),range(0,len(tm_nd_mig01))] = 0\n",
    "tm_nd_norm_mig01 = normalise(tm_nd_mig01,'colsum') # normalise over max of each columnn (return a probability distribution over columns)\n",
    "\n",
    "# TODO left-most and upper-most column look strange - try and fix. Update, think this is ok\n",
    "heatmaps_seq(normalise(tm_nd_mig01,'colmax'),title='Normalised true TM for mig01') # show heatmap"
   ]
  },
  {
   "cell_type": "markdown",
   "metadata": {},
   "source": [
    "## Matching_mig01\n",
    "\n",
    "History with genuine population size changes, where the coalescent rate matches the mig01 history (as detected by PSMC)"
   ]
  },
  {
   "cell_type": "code",
   "execution_count": 9,
   "metadata": {},
   "outputs": [
    {
     "name": "stdout",
     "output_type": "stream",
     "text": [
      "Files are:\\m\n",
      "File 0 is /home/trevor/ancestry/coal_data/matching_mig01/matching_mig01_095210.txt\n",
      "File 1 is /home/trevor/ancestry/coal_data/matching_mig01/matching_mig01_095435.txt\n",
      "File 2 is /home/trevor/ancestry/coal_data/matching_mig01/matching_mig01_095650.txt\n",
      "File 3 is /home/trevor/ancestry/coal_data/matching_mig01/matching_mig01_095905.txt\n",
      "File 4 is /home/trevor/ancestry/coal_data/matching_mig01/matching_mig01_100121.txt\n",
      "File 5 is /home/trevor/ancestry/coal_data/matching_mig01/matching_mig01_100336.txt\n",
      "File 6 is /home/trevor/ancestry/coal_data/matching_mig01/matching_mig01_100556.txt\n",
      "File 7 is /home/trevor/ancestry/coal_data/matching_mig01/matching_mig01_100814.txt\n",
      "File 8 is /home/trevor/ancestry/coal_data/matching_mig01/matching_mig01_101035.txt\n",
      "File 9 is /home/trevor/ancestry/coal_data/matching_mig01/matching_mig01_101253.txt\n",
      "File 10 is /home/trevor/ancestry/coal_data/matching_mig01/matching_mig01_101512.txt\n",
      "File 11 is /home/trevor/ancestry/coal_data/matching_mig01/matching_mig01_120555.txt\n",
      "File 12 is /home/trevor/ancestry/coal_data/matching_mig01/matching_mig01_120807.txt\n",
      "File 13 is /home/trevor/ancestry/coal_data/matching_mig01/matching_mig01_121023.txt\n",
      "File 14 is /home/trevor/ancestry/coal_data/matching_mig01/matching_mig01_121242.txt\n",
      "File 15 is /home/trevor/ancestry/coal_data/matching_mig01/matching_mig01_121450.txt\n",
      "File 16 is /home/trevor/ancestry/coal_data/matching_mig01/matching_mig01_121708.txt\n",
      "File 17 is /home/trevor/ancestry/coal_data/matching_mig01/matching_mig01_121917.txt\n",
      "File 18 is /home/trevor/ancestry/coal_data/matching_mig01/matching_mig01_122133.txt\n",
      "File 19 is /home/trevor/ancestry/coal_data/matching_mig01/matching_mig01_122349.txt\n",
      "File 20 is /home/trevor/ancestry/coal_data/matching_mig01/matching_mig01_122606.txt\n",
      "File 21 is /home/trevor/ancestry/coal_data/matching_mig01/matching_mig01_122819.txt\n",
      "File 22 is /home/trevor/ancestry/coal_data/matching_mig01/matching_mig01_211445.txt\n",
      "File 23 is /home/trevor/ancestry/coal_data/matching_mig01/matching_mig01_212625.txt\n",
      "File 24 is /home/trevor/ancestry/coal_data/matching_mig01/matching_mig01_212838.txt\n",
      "File 25 is /home/trevor/ancestry/coal_data/matching_mig01/matching_mig01_213056.txt\n",
      "File 26 is /home/trevor/ancestry/coal_data/matching_mig01/matching_mig01_213318.txt\n",
      "File 27 is /home/trevor/ancestry/coal_data/matching_mig01/matching_mig01_213532.txt\n",
      "File 28 is /home/trevor/ancestry/coal_data/matching_mig01/matching_mig01_213752.txt\n",
      "File 29 is /home/trevor/ancestry/coal_data/matching_mig01/matching_mig01_214009.txt\n",
      "File 30 is /home/trevor/ancestry/coal_data/matching_mig01/matching_mig01_214224.txt\n",
      "on iteration 0 of 31; file is matching_mig01_095210.txt\n",
      "on iteration 1 of 31; file is matching_mig01_095435.txt\n",
      "on iteration 2 of 31; file is matching_mig01_095650.txt\n",
      "on iteration 3 of 31; file is matching_mig01_095905.txt\n",
      "on iteration 4 of 31; file is matching_mig01_100121.txt\n",
      "on iteration 5 of 31; file is matching_mig01_100336.txt\n",
      "on iteration 6 of 31; file is matching_mig01_100556.txt\n",
      "on iteration 7 of 31; file is matching_mig01_100814.txt\n",
      "on iteration 8 of 31; file is matching_mig01_101035.txt\n",
      "on iteration 9 of 31; file is matching_mig01_101253.txt\n",
      "on iteration 10 of 31; file is matching_mig01_101512.txt\n",
      "on iteration 11 of 31; file is matching_mig01_120555.txt\n",
      "on iteration 12 of 31; file is matching_mig01_120807.txt\n",
      "on iteration 13 of 31; file is matching_mig01_121023.txt\n",
      "on iteration 14 of 31; file is matching_mig01_121242.txt\n",
      "on iteration 15 of 31; file is matching_mig01_121450.txt\n",
      "on iteration 16 of 31; file is matching_mig01_121708.txt\n",
      "on iteration 17 of 31; file is matching_mig01_121917.txt\n",
      "on iteration 18 of 31; file is matching_mig01_122133.txt\n",
      "on iteration 19 of 31; file is matching_mig01_122349.txt\n",
      "on iteration 20 of 31; file is matching_mig01_122606.txt\n",
      "on iteration 21 of 31; file is matching_mig01_122819.txt\n",
      "on iteration 22 of 31; file is matching_mig01_211445.txt\n",
      "on iteration 23 of 31; file is matching_mig01_212625.txt\n",
      "on iteration 24 of 31; file is matching_mig01_212838.txt\n",
      "on iteration 25 of 31; file is matching_mig01_213056.txt\n",
      "on iteration 26 of 31; file is matching_mig01_213318.txt\n",
      "on iteration 27 of 31; file is matching_mig01_213532.txt\n",
      "on iteration 28 of 31; file is matching_mig01_213752.txt\n",
      "on iteration 29 of 31; file is matching_mig01_214009.txt\n",
      "on iteration 30 of 31; file is matching_mig01_214224.txt\n"
     ]
    }
   ],
   "source": [
    "path =  '/home/trevor/ancestry/coal_data/matching_mig01/'\n",
    "files = os.listdir(path)\n",
    "print('Files are:\\m')\n",
    "for i in range(len(files)):\n",
    "    print(f'File {i} is {path + files[i]}')\n",
    "seq_length = 150e+06 # length of sequence used for simulations\n",
    "matchingmig01_tms = np.zeros(shape=(N_T,N_T))\n",
    "\n",
    "for i in range(len(files)):\n",
    "    print('on iteration {} of {}; file is {}'.format(i,len(files),files[i]))\n",
    "    test = np.loadtxt(path+files[0],comments=\"#\")\n",
    "    coal_times = round_bin_coal_data(seq_length,test, args)\n",
    "    coal_times_interval= round_coal_times(coal_times,T_scaled_np,N_T)\n",
    "    tm = tm_counts(coal_times_intervals,N_T=N_T)\n",
    "    matchingmig01_tms = matchingmig01_tms + tm\n",
    "\n"
   ]
  },
  {
   "cell_type": "code",
   "execution_count": 10,
   "metadata": {},
   "outputs": [
    {
     "name": "stderr",
     "output_type": "stream",
     "text": [
      "/home/trevor/ancestry/heatmaps_generate.py:27: UserWarning: Matplotlib is currently using module://ipykernel.pylab.backend_inline, which is a non-GUI backend, so cannot show the figure.\n",
      "  fig.show()\n"
     ]
    },
    {
     "data": {
      "image/png": "[encoded data removed]",
      "text/plain": [
       "<Figure size 432x288 with 2 Axes>"
      ]
     },
     "metadata": {
      "needs_background": "light"
     },
     "output_type": "display_data"
    }
   ],
   "source": [
    "tm_norm_mmig01 = normalise(matchingmig01_tms,'colsum') # normalise this such that it represents a probability distribution\n",
    "\n",
    "# remove diagonals. let nd stand for 'nodiagonals'\n",
    "tm_nd_mmig01 = np.copy(tm_norm_mmig01)\n",
    "tm_nd_mmig01[range(0,len(tm_nd_mmig01)),range(0,len(tm_nd_mmig01))] = 0\n",
    "tm_nd_norm_mmig01 = normalise(tm_nd_mmig01,'colsum') # normalise over max of each columnn (return a probability distribution over columns)\n",
    "\n",
    "# TODO left-most and upper-most column look strange - try and fix. Update, think this is ok\n",
    "heatmaps_seq(normalise(tm_nd_mmig01,'colmax'),title='Normalised true TM') # show heatmap\n",
    "# heatmaps_seq(normalise(,'colmax'),title='Normalised true TM') # show heatmap\n"
   ]
  },
  {
   "cell_type": "code",
   "execution_count": 28,
   "metadata": {},
   "outputs": [
    {
     "name": "stdout",
     "output_type": "stream",
     "text": [
      "mig01_tms is \n",
      "[[8.99602e+05 0.00000e+00 0.00000e+00 ... 6.60000e+01 0.00000e+00\n",
      "  0.00000e+00]\n",
      " [0.00000e+00 1.02652e+05 0.00000e+00 ... 0.00000e+00 0.00000e+00\n",
      "  0.00000e+00]\n",
      " [2.20000e+01 0.00000e+00 1.39854e+05 ... 0.00000e+00 0.00000e+00\n",
      "  0.00000e+00]\n",
      " ...\n",
      " [4.40000e+01 0.00000e+00 0.00000e+00 ... 3.07384e+05 3.56400e+03\n",
      "  6.95200e+03]\n",
      " [0.00000e+00 0.00000e+00 2.20000e+01 ... 3.60800e+03 2.07504e+05\n",
      "  6.71000e+03]\n",
      " [4.40000e+01 0.00000e+00 2.20000e+01 ... 6.42400e+03 6.57800e+03\n",
      "  3.77168e+05]]\n",
      "tm_nd_mig01 is \n",
      "[[   0.    0.    0. ...   66.    0.    0.]\n",
      " [   0.    0.    0. ...    0.    0.    0.]\n",
      " [  22.    0.    0. ...    0.    0.    0.]\n",
      " ...\n",
      " [  44.    0.    0. ...    0. 3564. 6952.]\n",
      " [   0.    0.   22. ... 3608.    0. 6710.]\n",
      " [  44.    0.   22. ... 6424. 6578.    0.]]\n",
      "normalise(tm_nd_mig01,\"colmax\") is \n",
      "[[0.         0.         0.         ... 0.01027397 0.         0.        ]\n",
      " [0.         0.         0.         ... 0.         0.         0.        ]\n",
      " [0.16666667 0.         0.         ... 0.         0.         0.        ]\n",
      " ...\n",
      " [0.33333333 0.         0.         ... 0.         0.54180602 1.        ]\n",
      " [0.         0.         0.33333333 ... 0.56164384 0.         0.96518987]\n",
      " [0.33333333 0.         0.33333333 ... 1.         1.         0.        ]]\n"
     ]
    },
    {
     "name": "stderr",
     "output_type": "stream",
     "text": [
      "/home/trevor/ancestry/heatmaps_generate.py:27: UserWarning: Matplotlib is currently using module://ipykernel.pylab.backend_inline, which is a non-GUI backend, so cannot show the figure.\n",
      "  fig.show()\n"
     ]
    },
    {
     "data": {
      "image/png": "[encoded data removed]",
      "text/plain": [
       "<Figure size 432x288 with 2 Axes>"
      ]
     },
     "metadata": {
      "needs_background": "light"
     },
     "output_type": "display_data"
    }
   ],
   "source": [
    "# mig01_tms\n",
    "# tm_nd_norm_mig01\n",
    "# tm_nd_norm_mmig01\n",
    "# test12345 = mig01_tms\n",
    "\n",
    "print('mig01_tms is \\n{}'.format(mig01_tms))\n",
    "tm_nd_mig01 = np.copy(mig01_tms)\n",
    "tm_nd_mig01[range(0,len(tm_nd_mig01)),range(0,len(tm_nd_mig01))] = 0\n",
    "print('tm_nd_mig01 is \\n{}'.format(tm_nd_mig01))\n",
    "print('normalise(tm_nd_mig01,\"colmax\") is \\n{}'.format(normalise(tm_nd_mig01,'colmax')))\n",
    "\n",
    "heatmaps_seq(normalise(tm_nd_mig01,'colmax'),title='Normalised true TM') # show heatmap\n",
    "# tm_nd_mmig01[range(0,len(tm_nd_mmig01)),range(0,len(tm_nd_mmig01))] = 0\n",
    "# tm_nd_norm_mmig01 = normalise(tm_nd_mmig01,'colsum') # normalise over max of each columnn (return a probability distribution over columns)\n",
    "\n",
    "# tm_nd_norm_mmig01\n",
    "# test54321 = matchingmig01_tms\n",
    "# tm_nd_norm_mig01"
   ]
  },
  {
   "cell_type": "code",
   "execution_count": 29,
   "metadata": {},
   "outputs": [
    {
     "name": "stdout",
     "output_type": "stream",
     "text": [
      "matchingmig01_tms is \n",
      "[[1.267621e+06 0.000000e+00 0.000000e+00 ... 9.300000e+01 0.000000e+00\n",
      "  0.000000e+00]\n",
      " [0.000000e+00 1.446460e+05 0.000000e+00 ... 0.000000e+00 0.000000e+00\n",
      "  0.000000e+00]\n",
      " [3.100000e+01 0.000000e+00 1.970670e+05 ... 0.000000e+00 0.000000e+00\n",
      "  0.000000e+00]\n",
      " ...\n",
      " [6.200000e+01 0.000000e+00 0.000000e+00 ... 4.331320e+05 5.022000e+03\n",
      "  9.796000e+03]\n",
      " [0.000000e+00 0.000000e+00 3.100000e+01 ... 5.084000e+03 2.923920e+05\n",
      "  9.455000e+03]\n",
      " [6.200000e+01 0.000000e+00 3.100000e+01 ... 9.052000e+03 9.269000e+03\n",
      "  5.314640e+05]]\n",
      "tm_nd_mmig01 is \n",
      "[[   0.    0.    0. ...   93.    0.    0.]\n",
      " [   0.    0.    0. ...    0.    0.    0.]\n",
      " [  31.    0.    0. ...    0.    0.    0.]\n",
      " ...\n",
      " [  62.    0.    0. ...    0. 5022. 9796.]\n",
      " [   0.    0.   31. ... 5084.    0. 9455.]\n",
      " [  62.    0.   31. ... 9052. 9269.    0.]]\n",
      "normalise(tm_nd_mmig01,\"colmax\") is \n",
      "[[0.         0.         0.         ... 0.01027397 0.         0.        ]\n",
      " [0.         0.         0.         ... 0.         0.         0.        ]\n",
      " [0.16666667 0.         0.         ... 0.         0.         0.        ]\n",
      " ...\n",
      " [0.33333333 0.         0.         ... 0.         0.54180602 1.        ]\n",
      " [0.         0.         0.33333333 ... 0.56164384 0.         0.96518987]\n",
      " [0.33333333 0.         0.33333333 ... 1.         1.         0.        ]]\n"
     ]
    },
    {
     "name": "stderr",
     "output_type": "stream",
     "text": [
      "/home/trevor/ancestry/heatmaps_generate.py:27: UserWarning: Matplotlib is currently using module://ipykernel.pylab.backend_inline, which is a non-GUI backend, so cannot show the figure.\n",
      "  fig.show()\n"
     ]
    },
    {
     "data": {
      "image/png": "[encoded data removed]",
      "text/plain": [
       "<Figure size 432x288 with 2 Axes>"
      ]
     },
     "metadata": {
      "needs_background": "light"
     },
     "output_type": "display_data"
    }
   ],
   "source": [
    "print('matchingmig01_tms is \\n{}'.format(matchingmig01_tms))\n",
    "tm_nd_mmig01 = np.copy(matchingmig01_tms)\n",
    "tm_nd_mmig01[range(0,len(tm_nd_mmig01)),range(0,len(tm_nd_mmig01))] = 0\n",
    "print('tm_nd_mmig01 is \\n{}'.format(tm_nd_mmig01))\n",
    "heatmaps_seq(normalise(tm_nd_mmig01,'colmax'),title='Normalised true TM') # show heatmap\n",
    "print('normalise(tm_nd_mmig01,\"colmax\") is \\n{}'.format(normalise(tm_nd_mmig01,'colmax')))\n",
    "# tm_nd_mmig01[range(0,len(tm_nd_mmig01)),range(0,len(tm_nd_mmig01))] = 0\n",
    "# tm_nd_norm_mmig01 = normalise(tm_nd_mmig01,'colsum') # normalise over max of each columnn (return a probability distribution over columns)\n",
    "\n",
    "# tm_nd_norm_mmig01\n",
    "# test54321 = matchingmig01_tms\n",
    "# tm_nd_norm_mig01\n"
   ]
  },
  {
   "cell_type": "code",
   "execution_count": null,
   "metadata": {},
   "outputs": [],
   "source": []
  }
 ],
 "metadata": {
  "kernelspec": {
   "display_name": "Python 3",
   "language": "python",
   "name": "python3"
  },
  "language_info": {
   "codemirror_mode": {
    "name": "ipython",
    "version": 3
   },
   "file_extension": ".py",
   "mimetype": "text/x-python",
   "name": "python",
   "nbconvert_exporter": "python",
   "pygments_lexer": "ipython3",
   "version": "3.6.9"
  }
 },
 "nbformat": 4,
 "nbformat_minor": 4
}
